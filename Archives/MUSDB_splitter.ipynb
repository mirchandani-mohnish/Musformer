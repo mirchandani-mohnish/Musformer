{
  "nbformat": 4,
  "nbformat_minor": 0,
  "metadata": {
    "colab": {
      "provenance": [],
      "mount_file_id": "1Rnkvp6oTmgu4IjD0bfxbvrd3rXmrUu3-",
      "authorship_tag": "ABX9TyMtcsxBn5ESofHyZbTBgYXy",
      "include_colab_link": true
    },
    "kernelspec": {
      "name": "python3",
      "display_name": "Python 3"
    },
    "language_info": {
      "name": "python"
    }
  },
  "cells": [
    {
      "cell_type": "markdown",
      "metadata": {
        "id": "view-in-github",
        "colab_type": "text"
      },
      "source": [
        "<a href=\"https://colab.research.google.com/github/mirchandani-mohnish/Musformer/blob/main/MUSDB_splitter.ipynb\" target=\"_parent\"><img src=\"https://colab.research.google.com/assets/colab-badge.svg\" alt=\"Open In Colab\"/></a>"
      ]
    },
    {
      "cell_type": "code",
      "execution_count": 1,
      "metadata": {
        "colab": {
          "base_uri": "https://localhost:8080/"
        },
        "id": "KWl-7jPeFJAZ",
        "outputId": "314ab2fd-7d9e-4d6e-a87b-680af140422d"
      },
      "outputs": [
        {
          "output_type": "stream",
          "name": "stdout",
          "text": [
            "Requirement already satisfied: kagglehub in /usr/local/lib/python3.11/dist-packages (0.3.10)\n",
            "Requirement already satisfied: pydrive in /usr/local/lib/python3.11/dist-packages (1.3.1)\n",
            "Requirement already satisfied: packaging in /usr/local/lib/python3.11/dist-packages (from kagglehub) (24.2)\n",
            "Requirement already satisfied: pyyaml in /usr/local/lib/python3.11/dist-packages (from kagglehub) (6.0.2)\n",
            "Requirement already satisfied: requests in /usr/local/lib/python3.11/dist-packages (from kagglehub) (2.32.3)\n",
            "Requirement already satisfied: tqdm in /usr/local/lib/python3.11/dist-packages (from kagglehub) (4.67.1)\n",
            "Requirement already satisfied: google-api-python-client>=1.2 in /usr/local/lib/python3.11/dist-packages (from pydrive) (2.160.0)\n",
            "Requirement already satisfied: oauth2client>=4.0.0 in /usr/local/lib/python3.11/dist-packages (from pydrive) (4.1.3)\n",
            "Requirement already satisfied: httplib2<1.dev0,>=0.19.0 in /usr/local/lib/python3.11/dist-packages (from google-api-python-client>=1.2->pydrive) (0.22.0)\n",
            "Requirement already satisfied: google-auth!=2.24.0,!=2.25.0,<3.0.0.dev0,>=1.32.0 in /usr/local/lib/python3.11/dist-packages (from google-api-python-client>=1.2->pydrive) (2.38.0)\n",
            "Requirement already satisfied: google-auth-httplib2<1.0.0,>=0.2.0 in /usr/local/lib/python3.11/dist-packages (from google-api-python-client>=1.2->pydrive) (0.2.0)\n",
            "Requirement already satisfied: google-api-core!=2.0.*,!=2.1.*,!=2.2.*,!=2.3.0,<3.0.0.dev0,>=1.31.5 in /usr/local/lib/python3.11/dist-packages (from google-api-python-client>=1.2->pydrive) (2.24.2)\n",
            "Requirement already satisfied: uritemplate<5,>=3.0.1 in /usr/local/lib/python3.11/dist-packages (from google-api-python-client>=1.2->pydrive) (4.1.1)\n",
            "Requirement already satisfied: pyasn1>=0.1.7 in /usr/local/lib/python3.11/dist-packages (from oauth2client>=4.0.0->pydrive) (0.6.1)\n",
            "Requirement already satisfied: pyasn1-modules>=0.0.5 in /usr/local/lib/python3.11/dist-packages (from oauth2client>=4.0.0->pydrive) (0.4.1)\n",
            "Requirement already satisfied: rsa>=3.1.4 in /usr/local/lib/python3.11/dist-packages (from oauth2client>=4.0.0->pydrive) (4.9)\n",
            "Requirement already satisfied: six>=1.6.1 in /usr/local/lib/python3.11/dist-packages (from oauth2client>=4.0.0->pydrive) (1.17.0)\n",
            "Requirement already satisfied: charset-normalizer<4,>=2 in /usr/local/lib/python3.11/dist-packages (from requests->kagglehub) (3.4.1)\n",
            "Requirement already satisfied: idna<4,>=2.5 in /usr/local/lib/python3.11/dist-packages (from requests->kagglehub) (3.10)\n",
            "Requirement already satisfied: urllib3<3,>=1.21.1 in /usr/local/lib/python3.11/dist-packages (from requests->kagglehub) (2.3.0)\n",
            "Requirement already satisfied: certifi>=2017.4.17 in /usr/local/lib/python3.11/dist-packages (from requests->kagglehub) (2025.1.31)\n",
            "Requirement already satisfied: googleapis-common-protos<2.0.0,>=1.56.2 in /usr/local/lib/python3.11/dist-packages (from google-api-core!=2.0.*,!=2.1.*,!=2.2.*,!=2.3.0,<3.0.0.dev0,>=1.31.5->google-api-python-client>=1.2->pydrive) (1.69.1)\n",
            "Requirement already satisfied: protobuf!=3.20.0,!=3.20.1,!=4.21.0,!=4.21.1,!=4.21.2,!=4.21.3,!=4.21.4,!=4.21.5,<7.0.0,>=3.19.5 in /usr/local/lib/python3.11/dist-packages (from google-api-core!=2.0.*,!=2.1.*,!=2.2.*,!=2.3.0,<3.0.0.dev0,>=1.31.5->google-api-python-client>=1.2->pydrive) (4.25.6)\n",
            "Requirement already satisfied: proto-plus<2.0.0,>=1.22.3 in /usr/local/lib/python3.11/dist-packages (from google-api-core!=2.0.*,!=2.1.*,!=2.2.*,!=2.3.0,<3.0.0.dev0,>=1.31.5->google-api-python-client>=1.2->pydrive) (1.26.1)\n",
            "Requirement already satisfied: cachetools<6.0,>=2.0.0 in /usr/local/lib/python3.11/dist-packages (from google-auth!=2.24.0,!=2.25.0,<3.0.0.dev0,>=1.32.0->google-api-python-client>=1.2->pydrive) (5.5.2)\n",
            "Requirement already satisfied: pyparsing!=3.0.0,!=3.0.1,!=3.0.2,!=3.0.3,<4,>=2.4.2 in /usr/local/lib/python3.11/dist-packages (from httplib2<1.dev0,>=0.19.0->google-api-python-client>=1.2->pydrive) (3.2.1)\n"
          ]
        },
        {
          "output_type": "stream",
          "name": "stderr",
          "text": [
            "WARNING:root:pydrive is deprecated and no longer maintained. We recommend that you migrate your projects to pydrive2, the maintained fork of pydrive\n"
          ]
        },
        {
          "output_type": "stream",
          "name": "stdout",
          "text": [
            "Downloading from https://www.kaggle.com/api/v1/datasets/download/dakshsethi/musdb18?dataset_version_number=2...\n"
          ]
        },
        {
          "output_type": "stream",
          "name": "stderr",
          "text": [
            "100%|██████████| 4.37G/4.37G [00:52<00:00, 89.5MB/s]"
          ]
        },
        {
          "output_type": "stream",
          "name": "stdout",
          "text": [
            "Extracting files...\n"
          ]
        },
        {
          "output_type": "stream",
          "name": "stderr",
          "text": [
            "\n"
          ]
        },
        {
          "output_type": "stream",
          "name": "stdout",
          "text": [
            "Dataset downloaded to: /root/.cache/kagglehub/datasets/dakshsethi/musdb18/versions/2\n",
            "Reduced dataset saved to: /content/musdb18_reduced\n",
            "Reduced dataset saved to Google Drive at: /content/drive/MyDrive/musdb18_reduced\n"
          ]
        }
      ],
      "source": [
        "# Install required libraries\n",
        "!pip install kagglehub pydrive\n",
        "\n",
        "# Import libraries\n",
        "import kagglehub\n",
        "import os\n",
        "import shutil\n",
        "import random\n",
        "from google.colab import drive\n",
        "from pydrive.auth import GoogleAuth\n",
        "from pydrive.drive import GoogleDrive\n",
        "from google.colab import auth\n",
        "\n",
        "# Authenticate with Google Drive\n",
        "auth.authenticate_user()\n",
        "gauth = GoogleAuth()\n",
        "gauth.credentials = GoogleAuth().credentials\n",
        "drive = GoogleDrive(gauth)\n",
        "\n",
        "# Download the dataset using kagglehub\n",
        "dataset_path = kagglehub.dataset_download(\"dakshsethi/musdb18\")\n",
        "print(\"Dataset downloaded to:\", dataset_path)\n",
        "\n",
        "# Function to reduce dataset size to 10%\n",
        "def reduce_dataset_size(dataset_path, output_path, fraction=0.1):\n",
        "    # Create output directory\n",
        "    os.makedirs(output_path, exist_ok=True)\n",
        "\n",
        "    # Iterate through the dataset directory\n",
        "    for root, dirs, files in os.walk(dataset_path):\n",
        "        # Create corresponding directories in the output path\n",
        "        relative_path = os.path.relpath(root, dataset_path)\n",
        "        new_dir = os.path.join(output_path, relative_path)\n",
        "        os.makedirs(new_dir, exist_ok=True)\n",
        "\n",
        "        # Randomly select 10% of the files\n",
        "        num_files_to_keep = int(len(files) * fraction)\n",
        "        selected_files = random.sample(files, num_files_to_keep)\n",
        "\n",
        "        # Copy selected files to the output directory\n",
        "        for file in selected_files:\n",
        "            src_file = os.path.join(root, file)\n",
        "            dst_file = os.path.join(new_dir, file)\n",
        "            shutil.copy(src_file, dst_file)\n",
        "\n",
        "    print(f\"Reduced dataset saved to: {output_path}\")\n",
        "\n",
        "# Define paths\n",
        "output_path = \"/content/musdb18_reduced\"\n",
        "\n",
        "# Reduce dataset size\n",
        "reduce_dataset_size(dataset_path, output_path, fraction=0.1)\n",
        "\n",
        "# Save the reduced dataset to Google Drive\n",
        "drive_output_folder = \"musdb18_reduced\"\n",
        "drive_output_path = os.path.join(\"/content/drive/MyDrive/\", drive_output_folder)\n",
        "\n",
        "# Create the folder in Google Drive\n",
        "os.makedirs(drive_output_path, exist_ok=True)\n",
        "\n",
        "# Copy the reduced dataset to Google Drive\n",
        "shutil.copytree(output_path, drive_output_path, dirs_exist_ok=True)\n",
        "print(f\"Reduced dataset saved to Google Drive at: {drive_output_path}\")"
      ]
    },
    {
      "cell_type": "code",
      "source": [
        "!sudo rm -rf /content/drive"
      ],
      "metadata": {
        "id": "0pRfkfFHLBcC"
      },
      "execution_count": 5,
      "outputs": []
    },
    {
      "cell_type": "code",
      "source": [
        "from google.colab import drive\n",
        "\n",
        "drive.mount('/content/drive')\n"
      ],
      "metadata": {
        "colab": {
          "base_uri": "https://localhost:8080/"
        },
        "id": "wc5O5Xg1KERB",
        "outputId": "117e51e1-e36d-4b92-ae86-c378ab03b702"
      },
      "execution_count": 6,
      "outputs": [
        {
          "output_type": "stream",
          "name": "stdout",
          "text": [
            "Mounted at /content/drive\n"
          ]
        }
      ]
    },
    {
      "cell_type": "code",
      "source": [
        "! sudo cp -r {dataset_path} /content/drive/MyDrive/musdb18\n"
      ],
      "metadata": {
        "id": "_oxCtGX8LRyu"
      },
      "execution_count": null,
      "outputs": []
    },
    {
      "cell_type": "code",
      "source": [
        "! sudo cp -r /content/musdb18_reduced /content/drive/MyDrive/musdb18_reduced"
      ],
      "metadata": {
        "id": "4ZiwFjlBLj-L"
      },
      "execution_count": 8,
      "outputs": []
    },
    {
      "cell_type": "code",
      "source": [
        "import os\n",
        "import shutil\n",
        "import random\n",
        "\n",
        "# Function to reduce dataset size to a fraction\n",
        "def reduce_dataset_size(input_path, output_path, fraction=0.3):\n",
        "    \"\"\"\n",
        "    Reduces the dataset size by randomly selecting a fraction of the files.\n",
        "\n",
        "    Args:\n",
        "        input_path (str): Path to the original dataset.\n",
        "        output_path (str): Path to save the reduced dataset.\n",
        "        fraction (float): Fraction of the dataset to keep (default: 0.3 for 30%).\n",
        "    \"\"\"\n",
        "    # Create output directory\n",
        "    os.makedirs(output_path, exist_ok=True)\n",
        "\n",
        "    # Iterate through the dataset directory\n",
        "    for root, dirs, files in os.walk(input_path):\n",
        "        # Create corresponding directories in the output path\n",
        "        relative_path = os.path.relpath(root, input_path)\n",
        "        new_dir = os.path.join(output_path, relative_path)\n",
        "        os.makedirs(new_dir, exist_ok=True)\n",
        "\n",
        "        # Randomly select a fraction of the files\n",
        "        num_files_to_keep = int(len(files) * fraction)\n",
        "        selected_files = random.sample(files, num_files_to_keep)\n",
        "\n",
        "        # Copy selected files to the output directory\n",
        "        for file in selected_files:\n",
        "            src_file = os.path.join(root, file)\n",
        "            dst_file = os.path.join(new_dir, file)\n",
        "            shutil.copy(src_file, dst_file)\n",
        "\n",
        "    print(f\"Reduced dataset saved to: {output_path}\")\n",
        "\n",
        "# Define paths\n",
        "input_path = \"/content/musdb18\"  # Path to the downloaded dataset\n",
        "output_path = \"/content/musdb18_reduced_30percent\"  # Path to save the reduced dataset\n",
        "\n",
        "# Reduce dataset size to 30%\n",
        "reduce_dataset_size(input_path, output_path, fraction=0.3)\n",
        "\n",
        "# List files in the reduced dataset\n",
        "print(\"Files in the reduced dataset:\")\n",
        "for root, dirs, files in os.walk(output_path):\n",
        "    print(f\"Directory: {root}\")\n",
        "    print(f\"Files: {files}\")"
      ],
      "metadata": {
        "colab": {
          "base_uri": "https://localhost:8080/"
        },
        "id": "afs7Q97tHDN4",
        "outputId": "8f68bb8d-ee67-47ad-f16b-74252c09e96d"
      },
      "execution_count": 2,
      "outputs": [
        {
          "output_type": "stream",
          "name": "stdout",
          "text": [
            "Reduced dataset saved to: /content/musdb18_reduced_30percent\n",
            "Files in the reduced dataset:\n",
            "Directory: /content/musdb18_reduced_30percent\n",
            "Files: []\n"
          ]
        }
      ]
    },
    {
      "cell_type": "code",
      "source": [
        "from google.colab import drive\n",
        "\n",
        "# Mount Google Drive\n",
        "drive.mount('/content/drive')\n",
        "\n",
        "# Path to the reduced dataset\n",
        "reduced_dataset_path = \"/content/musdb18_reduced_30percent\"\n",
        "\n",
        "# Path to save the dataset in Google Drive\n",
        "drive_output_path = \"/content/drive/MyDrive/musdb18_reduced_30percent\"\n",
        "\n",
        "# Copy the reduced dataset to Google Drive\n",
        "shutil.copytree(reduced_dataset_path, drive_output_path, dirs_exist_ok=True)\n",
        "print(f\"Reduced dataset saved to Google Drive at: {drive_output_path}\")"
      ],
      "metadata": {
        "id": "veHm5ncLHGpV"
      },
      "execution_count": null,
      "outputs": []
    }
  ]
}
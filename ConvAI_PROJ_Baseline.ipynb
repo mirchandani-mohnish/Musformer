{
  "nbformat": 4,
  "nbformat_minor": 0,
  "metadata": {
    "colab": {
      "provenance": [],
      "gpuType": "T4",
      "authorship_tag": "ABX9TyPXKzjlmBsz8qumUUpi1+6R",
      "include_colab_link": true
    },
    "kernelspec": {
      "name": "python3",
      "display_name": "Python 3"
    },
    "language_info": {
      "name": "python"
    }
  },
  "cells": [
    {
      "cell_type": "markdown",
      "metadata": {
        "id": "view-in-github",
        "colab_type": "text"
      },
      "source": [
        "<a href=\"https://colab.research.google.com/github/mirchandani-mohnish/Musformer/blob/main/ConvAI_PROJ_Baseline.ipynb\" target=\"_parent\"><img src=\"https://colab.research.google.com/assets/colab-badge.svg\" alt=\"Open In Colab\"/></a>"
      ]
    },
    {
      "cell_type": "code",
      "execution_count": 2,
      "metadata": {
        "colab": {
          "base_uri": "https://localhost:8080/"
        },
        "id": "yI78tSDabgwp",
        "outputId": "470fef2d-b4ef-4bc0-ca06-fb6ec25d89b7"
      },
      "outputs": [
        {
          "output_type": "stream",
          "name": "stdout",
          "text": [
            "Downloading from https://www.kaggle.com/api/v1/datasets/download/dakshsethi/musdb18?dataset_version_number=2...\n"
          ]
        },
        {
          "output_type": "stream",
          "name": "stderr",
          "text": [
            "100%|██████████| 4.37G/4.37G [00:54<00:00, 86.7MB/s]"
          ]
        },
        {
          "output_type": "stream",
          "name": "stdout",
          "text": [
            "Extracting files...\n"
          ]
        },
        {
          "output_type": "stream",
          "name": "stderr",
          "text": [
            "\n"
          ]
        },
        {
          "output_type": "stream",
          "name": "stdout",
          "text": [
            "Path:  /root/.cache/kagglehub/datasets/dakshsethi/musdb18/versions/2\n"
          ]
        }
      ],
      "source": [
        "import kagglehub\n",
        "import shutil\n",
        "\n",
        "\n",
        "path = kagglehub.dataset_download(\"dakshsethi/musdb18\")\n",
        "\n",
        "print(\"Path: \", path)\n",
        "\n"
      ]
    },
    {
      "cell_type": "code",
      "source": [],
      "metadata": {
        "id": "xVPnf5q2hSac"
      },
      "execution_count": null,
      "outputs": []
    },
    {
      "cell_type": "markdown",
      "source": [],
      "metadata": {
        "id": "HrAOArzNhWag"
      }
    },
    {
      "cell_type": "code",
      "source": [
        "\n",
        "\n",
        "destination_path = \"/content/musdb\"\n",
        "db_path = \"/content/musdb\"\n",
        "# Move the dataset\n",
        "shutil.move(path, destination_path)\n",
        "shutil.move(destination_path + '/musdb18 (2)/musdb18', '/content/')\n",
        "db_path = '/content/musdb18'\n",
        "print(\"Dataset moved to:\", db_path)"
      ],
      "metadata": {
        "colab": {
          "base_uri": "https://localhost:8080/",
          "height": 347
        },
        "id": "sVQ4bH3t0ryB",
        "outputId": "9a77ab82-5816-45fc-a78c-eb187d16c42e"
      },
      "execution_count": 3,
      "outputs": [
        {
          "output_type": "error",
          "ename": "Error",
          "evalue": "Destination path '/content/musdb18' already exists",
          "traceback": [
            "\u001b[0;31m---------------------------------------------------------------------------\u001b[0m",
            "\u001b[0;31mError\u001b[0m                                     Traceback (most recent call last)",
            "\u001b[0;32m<ipython-input-3-f69cbed4d1f6>\u001b[0m in \u001b[0;36m<cell line: 0>\u001b[0;34m()\u001b[0m\n\u001b[1;32m      3\u001b[0m \u001b[0;31m# Move the dataset\u001b[0m\u001b[0;34m\u001b[0m\u001b[0;34m\u001b[0m\u001b[0m\n\u001b[1;32m      4\u001b[0m \u001b[0mshutil\u001b[0m\u001b[0;34m.\u001b[0m\u001b[0mmove\u001b[0m\u001b[0;34m(\u001b[0m\u001b[0mpath\u001b[0m\u001b[0;34m,\u001b[0m \u001b[0mdestination_path\u001b[0m\u001b[0;34m)\u001b[0m\u001b[0;34m\u001b[0m\u001b[0;34m\u001b[0m\u001b[0m\n\u001b[0;32m----> 5\u001b[0;31m \u001b[0mshutil\u001b[0m\u001b[0;34m.\u001b[0m\u001b[0mmove\u001b[0m\u001b[0;34m(\u001b[0m\u001b[0mdestination_path\u001b[0m \u001b[0;34m+\u001b[0m \u001b[0;34m'/musdb18 (2)/musdb18'\u001b[0m\u001b[0;34m,\u001b[0m \u001b[0;34m'/content/'\u001b[0m\u001b[0;34m)\u001b[0m\u001b[0;34m\u001b[0m\u001b[0;34m\u001b[0m\u001b[0m\n\u001b[0m\u001b[1;32m      6\u001b[0m \u001b[0mdb_path\u001b[0m \u001b[0;34m=\u001b[0m \u001b[0;34m'/content/musdb18'\u001b[0m\u001b[0;34m\u001b[0m\u001b[0;34m\u001b[0m\u001b[0m\n\u001b[1;32m      7\u001b[0m \u001b[0mprint\u001b[0m\u001b[0;34m(\u001b[0m\u001b[0;34m\"Dataset moved to:\"\u001b[0m\u001b[0;34m,\u001b[0m \u001b[0mdb_path\u001b[0m\u001b[0;34m)\u001b[0m\u001b[0;34m\u001b[0m\u001b[0;34m\u001b[0m\u001b[0m\n",
            "\u001b[0;32m/usr/lib/python3.11/shutil.py\u001b[0m in \u001b[0;36mmove\u001b[0;34m(src, dst, copy_function)\u001b[0m\n\u001b[1;32m    849\u001b[0m \u001b[0;34m\u001b[0m\u001b[0m\n\u001b[1;32m    850\u001b[0m         \u001b[0;32mif\u001b[0m \u001b[0mos\u001b[0m\u001b[0;34m.\u001b[0m\u001b[0mpath\u001b[0m\u001b[0;34m.\u001b[0m\u001b[0mexists\u001b[0m\u001b[0;34m(\u001b[0m\u001b[0mreal_dst\u001b[0m\u001b[0;34m)\u001b[0m\u001b[0;34m:\u001b[0m\u001b[0;34m\u001b[0m\u001b[0;34m\u001b[0m\u001b[0m\n\u001b[0;32m--> 851\u001b[0;31m             \u001b[0;32mraise\u001b[0m \u001b[0mError\u001b[0m\u001b[0;34m(\u001b[0m\u001b[0;34m\"Destination path '%s' already exists\"\u001b[0m \u001b[0;34m%\u001b[0m \u001b[0mreal_dst\u001b[0m\u001b[0;34m)\u001b[0m\u001b[0;34m\u001b[0m\u001b[0;34m\u001b[0m\u001b[0m\n\u001b[0m\u001b[1;32m    852\u001b[0m     \u001b[0;32mtry\u001b[0m\u001b[0;34m:\u001b[0m\u001b[0;34m\u001b[0m\u001b[0;34m\u001b[0m\u001b[0m\n\u001b[1;32m    853\u001b[0m         \u001b[0mos\u001b[0m\u001b[0;34m.\u001b[0m\u001b[0mrename\u001b[0m\u001b[0;34m(\u001b[0m\u001b[0msrc\u001b[0m\u001b[0;34m,\u001b[0m \u001b[0mreal_dst\u001b[0m\u001b[0;34m)\u001b[0m\u001b[0;34m\u001b[0m\u001b[0;34m\u001b[0m\u001b[0m\n",
            "\u001b[0;31mError\u001b[0m: Destination path '/content/musdb18' already exists"
          ]
        }
      ]
    },
    {
      "cell_type": "code",
      "source": [],
      "metadata": {
        "id": "Xj1EDC7dhhFY"
      },
      "execution_count": null,
      "outputs": []
    },
    {
      "cell_type": "code",
      "source": [
        "db_path = '/content/musdb18'"
      ],
      "metadata": {
        "id": "n5L8PfZLH9TU"
      },
      "execution_count": 6,
      "outputs": []
    },
    {
      "cell_type": "code",
      "source": [
        "!pip install musdb"
      ],
      "metadata": {
        "colab": {
          "base_uri": "https://localhost:8080/"
        },
        "id": "P8G8GKGJfuQH",
        "outputId": "ac6b1953-23d7-488e-ee71-c8acc43fccb7"
      },
      "execution_count": 7,
      "outputs": [
        {
          "output_type": "stream",
          "name": "stdout",
          "text": [
            "Requirement already satisfied: musdb in /usr/local/lib/python3.11/dist-packages (0.4.2)\n",
            "Requirement already satisfied: numpy>=1.7 in /usr/local/lib/python3.11/dist-packages (from musdb) (1.26.4)\n",
            "Requirement already satisfied: stempeg>=0.2.3 in /usr/local/lib/python3.11/dist-packages (from musdb) (0.2.3)\n",
            "Requirement already satisfied: pyaml in /usr/local/lib/python3.11/dist-packages (from musdb) (25.1.0)\n",
            "Requirement already satisfied: tqdm in /usr/local/lib/python3.11/dist-packages (from musdb) (4.67.1)\n",
            "Requirement already satisfied: ffmpeg-python>=0.2.0 in /usr/local/lib/python3.11/dist-packages (from stempeg>=0.2.3->musdb) (0.2.0)\n",
            "Requirement already satisfied: PyYAML in /usr/local/lib/python3.11/dist-packages (from pyaml->musdb) (6.0.2)\n",
            "Requirement already satisfied: future in /usr/local/lib/python3.11/dist-packages (from ffmpeg-python>=0.2.0->stempeg>=0.2.3->musdb) (1.0.0)\n"
          ]
        }
      ]
    },
    {
      "cell_type": "code",
      "source": [
        "import os\n",
        "import musdb\n",
        "\n",
        "MUS_DB_PATH = db_path\n",
        "\n",
        "mus = musdb.DB(root=MUS_DB_PATH)\n",
        "mus_train = musdb.DB(root=MUS_DB_PATH,subsets=\"train\", split=\"train\")\n",
        "mus_valid = musdb.DB(root=MUS_DB_PATH,subsets=\"train\", split=\"valid\")\n",
        "mus_test = musdb.DB(root=MUS_DB_PATH,subsets=\"test\")\n",
        "print(mus_train[0])\n",
        "print(mus_test[0])"
      ],
      "metadata": {
        "colab": {
          "base_uri": "https://localhost:8080/"
        },
        "id": "GRUGkxsGtN9O",
        "outputId": "37b6ed8f-4584-4941-99c7-151e33fb14ff"
      },
      "execution_count": 8,
      "outputs": [
        {
          "output_type": "stream",
          "name": "stdout",
          "text": [
            "A Classic Education - NightOwl\n",
            "AM Contra - Heart Peripheral\n"
          ]
        }
      ]
    },
    {
      "cell_type": "code",
      "source": [
        "%%capture\n",
        "# Installing SpeechBrain via pip\n",
        "BRANCH = 'develop'\n",
        "!python -m pip install git+https://github.com/speechbrain/speechbrain.git@$BRANCH\n",
        "\n",
        "# Clone SpeechBrain repository\n",
        "!git clone https://github.com/speechbrain/speechbrain/"
      ],
      "metadata": {
        "id": "zZslsygWzkRt"
      },
      "execution_count": 7,
      "outputs": []
    },
    {
      "cell_type": "markdown",
      "source": [
        "## Spleeter Baseline Model"
      ],
      "metadata": {
        "id": "wZ21hJh4JFsQ"
      }
    },
    {
      "cell_type": "code",
      "source": [
        "!git clone https://github.com/pyenv/pyenv.git ~/.pyenv\n",
        "\n",
        "# Set the root for pyenv\n",
        "os.environ['PYENV_ROOT'] = os.path.expanduser(\"~/.pyenv\")\n",
        "# Prepend pyenv's bin folder to PATH\n",
        "os.environ['PATH'] = os.environ['PYENV_ROOT'] + '/bin:' + os.environ['PATH']\n",
        "\n",
        "# Confirm pyenv is callable\n",
        "!pyenv --version\n",
        "!apt-get install libffi-dev\n",
        "!pyenv install 3.8.13\n",
        "!pyenv global 3.8.13\n",
        "!pyenv exec pip install spleeter\n",
        "!pyenv exec spleeter"
      ],
      "metadata": {
        "colab": {
          "base_uri": "https://localhost:8080/"
        },
        "id": "nWphIEsZM6rL",
        "outputId": "1206cd8d-c95c-458b-eb94-964f28197759"
      },
      "execution_count": 8,
      "outputs": [
        {
          "output_type": "stream",
          "name": "stdout",
          "text": [
            "fatal: destination path '/root/.pyenv' already exists and is not an empty directory.\n",
            "pyenv 2.5.4\n",
            "Reading package lists... Done\n",
            "Building dependency tree... Done\n",
            "Reading state information... Done\n",
            "libffi-dev is already the newest version (3.4.2-4).\n",
            "0 upgraded, 0 newly installed, 0 to remove and 29 not upgraded.\n",
            "pyenv: /root/.pyenv/versions/3.8.13 already exists\n",
            "continue with installation? (y/N) Requirement already satisfied: spleeter in /root/.pyenv/versions/3.8.13/lib/python3.8/site-packages (2.4.0)\n",
            "Requirement already satisfied: tensorflow<2.10.0,>=2.5.0 in /root/.pyenv/versions/3.8.13/lib/python3.8/site-packages (from spleeter) (2.9.3)\n",
            "Requirement already satisfied: ffmpeg-python<0.3.0,>=0.2.0 in /root/.pyenv/versions/3.8.13/lib/python3.8/site-packages (from spleeter) (0.2.0)\n",
            "Requirement already satisfied: typer<0.4.0,>=0.3.2 in /root/.pyenv/versions/3.8.13/lib/python3.8/site-packages (from spleeter) (0.3.2)\n",
            "Requirement already satisfied: pandas<2.0.0,>=1.3.0 in /root/.pyenv/versions/3.8.13/lib/python3.8/site-packages (from spleeter) (1.5.3)\n",
            "Requirement already satisfied: norbert<0.3.0,>=0.2.1 in /root/.pyenv/versions/3.8.13/lib/python3.8/site-packages (from spleeter) (0.2.1)\n",
            "Requirement already satisfied: httpx[http2]<0.20.0,>=0.19.0 in /root/.pyenv/versions/3.8.13/lib/python3.8/site-packages (from spleeter) (0.19.0)\n",
            "Requirement already satisfied: future in /root/.pyenv/versions/3.8.13/lib/python3.8/site-packages (from ffmpeg-python<0.3.0,>=0.2.0->spleeter) (1.0.0)\n",
            "Requirement already satisfied: httpcore<0.14.0,>=0.13.3 in /root/.pyenv/versions/3.8.13/lib/python3.8/site-packages (from httpx[http2]<0.20.0,>=0.19.0->spleeter) (0.13.7)\n",
            "Requirement already satisfied: rfc3986[idna2008]<2,>=1.3 in /root/.pyenv/versions/3.8.13/lib/python3.8/site-packages (from httpx[http2]<0.20.0,>=0.19.0->spleeter) (1.5.0)\n",
            "Requirement already satisfied: sniffio in /root/.pyenv/versions/3.8.13/lib/python3.8/site-packages (from httpx[http2]<0.20.0,>=0.19.0->spleeter) (1.3.1)\n",
            "Requirement already satisfied: certifi in /root/.pyenv/versions/3.8.13/lib/python3.8/site-packages (from httpx[http2]<0.20.0,>=0.19.0->spleeter) (2025.1.31)\n",
            "Requirement already satisfied: charset-normalizer in /root/.pyenv/versions/3.8.13/lib/python3.8/site-packages (from httpx[http2]<0.20.0,>=0.19.0->spleeter) (3.4.1)\n",
            "Requirement already satisfied: h2<5,>=3 in /root/.pyenv/versions/3.8.13/lib/python3.8/site-packages (from httpx[http2]<0.20.0,>=0.19.0->spleeter) (4.1.0)\n",
            "Requirement already satisfied: scipy in /root/.pyenv/versions/3.8.13/lib/python3.8/site-packages (from norbert<0.3.0,>=0.2.1->spleeter) (1.10.1)\n",
            "Requirement already satisfied: python-dateutil>=2.8.1 in /root/.pyenv/versions/3.8.13/lib/python3.8/site-packages (from pandas<2.0.0,>=1.3.0->spleeter) (2.9.0.post0)\n",
            "Requirement already satisfied: numpy>=1.20.3 in /root/.pyenv/versions/3.8.13/lib/python3.8/site-packages (from pandas<2.0.0,>=1.3.0->spleeter) (1.24.4)\n",
            "Requirement already satisfied: pytz>=2020.1 in /root/.pyenv/versions/3.8.13/lib/python3.8/site-packages (from pandas<2.0.0,>=1.3.0->spleeter) (2025.1)\n",
            "Requirement already satisfied: tensorboard<2.10,>=2.9 in /root/.pyenv/versions/3.8.13/lib/python3.8/site-packages (from tensorflow<2.10.0,>=2.5.0->spleeter) (2.9.1)\n",
            "Requirement already satisfied: flatbuffers<2,>=1.12 in /root/.pyenv/versions/3.8.13/lib/python3.8/site-packages (from tensorflow<2.10.0,>=2.5.0->spleeter) (1.12)\n",
            "Requirement already satisfied: libclang>=13.0.0 in /root/.pyenv/versions/3.8.13/lib/python3.8/site-packages (from tensorflow<2.10.0,>=2.5.0->spleeter) (18.1.1)\n",
            "Requirement already satisfied: google-pasta>=0.1.1 in /root/.pyenv/versions/3.8.13/lib/python3.8/site-packages (from tensorflow<2.10.0,>=2.5.0->spleeter) (0.2.0)\n",
            "Requirement already satisfied: termcolor>=1.1.0 in /root/.pyenv/versions/3.8.13/lib/python3.8/site-packages (from tensorflow<2.10.0,>=2.5.0->spleeter) (2.4.0)\n",
            "Requirement already satisfied: packaging in /root/.pyenv/versions/3.8.13/lib/python3.8/site-packages (from tensorflow<2.10.0,>=2.5.0->spleeter) (24.2)\n",
            "Requirement already satisfied: opt-einsum>=2.3.2 in /root/.pyenv/versions/3.8.13/lib/python3.8/site-packages (from tensorflow<2.10.0,>=2.5.0->spleeter) (3.4.0)\n",
            "Requirement already satisfied: tensorflow-io-gcs-filesystem>=0.23.1 in /root/.pyenv/versions/3.8.13/lib/python3.8/site-packages (from tensorflow<2.10.0,>=2.5.0->spleeter) (0.34.0)\n",
            "Requirement already satisfied: grpcio<2.0,>=1.24.3 in /root/.pyenv/versions/3.8.13/lib/python3.8/site-packages (from tensorflow<2.10.0,>=2.5.0->spleeter) (1.70.0)\n",
            "Requirement already satisfied: keras-preprocessing>=1.1.1 in /root/.pyenv/versions/3.8.13/lib/python3.8/site-packages (from tensorflow<2.10.0,>=2.5.0->spleeter) (1.1.2)\n",
            "Requirement already satisfied: h5py>=2.9.0 in /root/.pyenv/versions/3.8.13/lib/python3.8/site-packages (from tensorflow<2.10.0,>=2.5.0->spleeter) (3.11.0)\n",
            "Requirement already satisfied: wrapt>=1.11.0 in /root/.pyenv/versions/3.8.13/lib/python3.8/site-packages (from tensorflow<2.10.0,>=2.5.0->spleeter) (1.17.2)\n",
            "Requirement already satisfied: absl-py>=1.0.0 in /root/.pyenv/versions/3.8.13/lib/python3.8/site-packages (from tensorflow<2.10.0,>=2.5.0->spleeter) (2.1.0)\n",
            "Requirement already satisfied: setuptools in /root/.pyenv/versions/3.8.13/lib/python3.8/site-packages (from tensorflow<2.10.0,>=2.5.0->spleeter) (56.0.0)\n",
            "Requirement already satisfied: gast<=0.4.0,>=0.2.1 in /root/.pyenv/versions/3.8.13/lib/python3.8/site-packages (from tensorflow<2.10.0,>=2.5.0->spleeter) (0.4.0)\n",
            "Requirement already satisfied: tensorflow-estimator<2.10.0,>=2.9.0rc0 in /root/.pyenv/versions/3.8.13/lib/python3.8/site-packages (from tensorflow<2.10.0,>=2.5.0->spleeter) (2.9.0)\n",
            "Requirement already satisfied: protobuf<3.20,>=3.9.2 in /root/.pyenv/versions/3.8.13/lib/python3.8/site-packages (from tensorflow<2.10.0,>=2.5.0->spleeter) (3.19.6)\n",
            "Requirement already satisfied: keras<2.10.0,>=2.9.0rc0 in /root/.pyenv/versions/3.8.13/lib/python3.8/site-packages (from tensorflow<2.10.0,>=2.5.0->spleeter) (2.9.0)\n",
            "Requirement already satisfied: typing-extensions>=3.6.6 in /root/.pyenv/versions/3.8.13/lib/python3.8/site-packages (from tensorflow<2.10.0,>=2.5.0->spleeter) (4.12.2)\n",
            "Requirement already satisfied: astunparse>=1.6.0 in /root/.pyenv/versions/3.8.13/lib/python3.8/site-packages (from tensorflow<2.10.0,>=2.5.0->spleeter) (1.6.3)\n",
            "Requirement already satisfied: six>=1.12.0 in /root/.pyenv/versions/3.8.13/lib/python3.8/site-packages (from tensorflow<2.10.0,>=2.5.0->spleeter) (1.17.0)\n",
            "Requirement already satisfied: click<7.2.0,>=7.1.1 in /root/.pyenv/versions/3.8.13/lib/python3.8/site-packages (from typer<0.4.0,>=0.3.2->spleeter) (7.1.2)\n",
            "Requirement already satisfied: wheel<1.0,>=0.23.0 in /root/.pyenv/versions/3.8.13/lib/python3.8/site-packages (from astunparse>=1.6.0->tensorflow<2.10.0,>=2.5.0->spleeter) (0.45.1)\n",
            "Requirement already satisfied: hpack<5,>=4.0 in /root/.pyenv/versions/3.8.13/lib/python3.8/site-packages (from h2<5,>=3->httpx[http2]<0.20.0,>=0.19.0->spleeter) (4.0.0)\n",
            "Requirement already satisfied: hyperframe<7,>=6.0 in /root/.pyenv/versions/3.8.13/lib/python3.8/site-packages (from h2<5,>=3->httpx[http2]<0.20.0,>=0.19.0->spleeter) (6.0.1)\n",
            "Requirement already satisfied: h11<0.13,>=0.11 in /root/.pyenv/versions/3.8.13/lib/python3.8/site-packages (from httpcore<0.14.0,>=0.13.3->httpx[http2]<0.20.0,>=0.19.0->spleeter) (0.12.0)\n",
            "Requirement already satisfied: anyio==3.* in /root/.pyenv/versions/3.8.13/lib/python3.8/site-packages (from httpcore<0.14.0,>=0.13.3->httpx[http2]<0.20.0,>=0.19.0->spleeter) (3.7.1)\n",
            "Requirement already satisfied: exceptiongroup in /root/.pyenv/versions/3.8.13/lib/python3.8/site-packages (from anyio==3.*->httpcore<0.14.0,>=0.13.3->httpx[http2]<0.20.0,>=0.19.0->spleeter) (1.2.2)\n",
            "Requirement already satisfied: idna>=2.8 in /root/.pyenv/versions/3.8.13/lib/python3.8/site-packages (from anyio==3.*->httpcore<0.14.0,>=0.13.3->httpx[http2]<0.20.0,>=0.19.0->spleeter) (3.10)\n",
            "Requirement already satisfied: requests<3,>=2.21.0 in /root/.pyenv/versions/3.8.13/lib/python3.8/site-packages (from tensorboard<2.10,>=2.9->tensorflow<2.10.0,>=2.5.0->spleeter) (2.32.3)\n",
            "Requirement already satisfied: tensorboard-data-server<0.7.0,>=0.6.0 in /root/.pyenv/versions/3.8.13/lib/python3.8/site-packages (from tensorboard<2.10,>=2.9->tensorflow<2.10.0,>=2.5.0->spleeter) (0.6.1)\n",
            "Requirement already satisfied: google-auth-oauthlib<0.5,>=0.4.1 in /root/.pyenv/versions/3.8.13/lib/python3.8/site-packages (from tensorboard<2.10,>=2.9->tensorflow<2.10.0,>=2.5.0->spleeter) (0.4.6)\n",
            "Requirement already satisfied: tensorboard-plugin-wit>=1.6.0 in /root/.pyenv/versions/3.8.13/lib/python3.8/site-packages (from tensorboard<2.10,>=2.9->tensorflow<2.10.0,>=2.5.0->spleeter) (1.8.1)\n",
            "Requirement already satisfied: werkzeug>=1.0.1 in /root/.pyenv/versions/3.8.13/lib/python3.8/site-packages (from tensorboard<2.10,>=2.9->tensorflow<2.10.0,>=2.5.0->spleeter) (3.0.6)\n",
            "Requirement already satisfied: google-auth<3,>=1.6.3 in /root/.pyenv/versions/3.8.13/lib/python3.8/site-packages (from tensorboard<2.10,>=2.9->tensorflow<2.10.0,>=2.5.0->spleeter) (2.38.0)\n",
            "Requirement already satisfied: markdown>=2.6.8 in /root/.pyenv/versions/3.8.13/lib/python3.8/site-packages (from tensorboard<2.10,>=2.9->tensorflow<2.10.0,>=2.5.0->spleeter) (3.7)\n",
            "Requirement already satisfied: rsa<5,>=3.1.4 in /root/.pyenv/versions/3.8.13/lib/python3.8/site-packages (from google-auth<3,>=1.6.3->tensorboard<2.10,>=2.9->tensorflow<2.10.0,>=2.5.0->spleeter) (4.9)\n",
            "Requirement already satisfied: cachetools<6.0,>=2.0.0 in /root/.pyenv/versions/3.8.13/lib/python3.8/site-packages (from google-auth<3,>=1.6.3->tensorboard<2.10,>=2.9->tensorflow<2.10.0,>=2.5.0->spleeter) (5.5.2)\n",
            "Requirement already satisfied: pyasn1-modules>=0.2.1 in /root/.pyenv/versions/3.8.13/lib/python3.8/site-packages (from google-auth<3,>=1.6.3->tensorboard<2.10,>=2.9->tensorflow<2.10.0,>=2.5.0->spleeter) (0.4.1)\n",
            "Requirement already satisfied: requests-oauthlib>=0.7.0 in /root/.pyenv/versions/3.8.13/lib/python3.8/site-packages (from google-auth-oauthlib<0.5,>=0.4.1->tensorboard<2.10,>=2.9->tensorflow<2.10.0,>=2.5.0->spleeter) (2.0.0)\n",
            "Requirement already satisfied: importlib-metadata>=4.4 in /root/.pyenv/versions/3.8.13/lib/python3.8/site-packages (from markdown>=2.6.8->tensorboard<2.10,>=2.9->tensorflow<2.10.0,>=2.5.0->spleeter) (8.5.0)\n",
            "Requirement already satisfied: urllib3<3,>=1.21.1 in /root/.pyenv/versions/3.8.13/lib/python3.8/site-packages (from requests<3,>=2.21.0->tensorboard<2.10,>=2.9->tensorflow<2.10.0,>=2.5.0->spleeter) (2.2.3)\n",
            "Requirement already satisfied: MarkupSafe>=2.1.1 in /root/.pyenv/versions/3.8.13/lib/python3.8/site-packages (from werkzeug>=1.0.1->tensorboard<2.10,>=2.9->tensorflow<2.10.0,>=2.5.0->spleeter) (2.1.5)\n",
            "Requirement already satisfied: zipp>=3.20 in /root/.pyenv/versions/3.8.13/lib/python3.8/site-packages (from importlib-metadata>=4.4->markdown>=2.6.8->tensorboard<2.10,>=2.9->tensorflow<2.10.0,>=2.5.0->spleeter) (3.20.2)\n",
            "Requirement already satisfied: pyasn1<0.7.0,>=0.4.6 in /root/.pyenv/versions/3.8.13/lib/python3.8/site-packages (from pyasn1-modules>=0.2.1->google-auth<3,>=1.6.3->tensorboard<2.10,>=2.9->tensorflow<2.10.0,>=2.5.0->spleeter) (0.6.1)\n",
            "Requirement already satisfied: oauthlib>=3.0.0 in /root/.pyenv/versions/3.8.13/lib/python3.8/site-packages (from requests-oauthlib>=0.7.0->google-auth-oauthlib<0.5,>=0.4.1->tensorboard<2.10,>=2.9->tensorflow<2.10.0,>=2.5.0->spleeter) (3.2.2)\n",
            "\u001b[33mWARNING: Running pip as the 'root' user can result in broken permissions and conflicting behaviour with the system package manager. It is recommended to use a virtual environment instead: https://pip.pypa.io/warnings/venv\u001b[0m\u001b[33m\n",
            "\u001b[0mUsage: spleeter [OPTIONS] COMMAND [ARGS]...\n",
            "\n",
            "Options:\n",
            "  --version  Return Spleeter version\n",
            "  --help     Show this message and exit.\n",
            "\n",
            "Commands:\n",
            "  evaluate  Evaluate a model on the musDB test dataset\n",
            "  separate  Separate audio file(s)\n",
            "  train     Train a source separation model\n"
          ]
        }
      ]
    },
    {
      "cell_type": "code",
      "source": [
        "rate = 44100\n",
        "\n",
        "# !pip install spleeter ffmpeg-python"
      ],
      "metadata": {
        "id": "bHI0j7XXJzFP"
      },
      "execution_count": 21,
      "outputs": []
    },
    {
      "cell_type": "code",
      "source": [
        "import os\n",
        "from tqdm import tqdm\n",
        "from scipy.io.wavfile import write\n",
        "\n",
        "spleeter_dir = \"/content/output/spleeter\"\n",
        "os.makedirs(spleeter_dir, exist_ok=True)\n",
        "\n",
        "\n",
        "\n",
        "for track in tqdm(mus):\n",
        "    track_name = track.name.replace(\" \", \"_\")\n",
        "\n",
        "    track_output_dir = os.path.join(spleeter_dir, track_name)\n",
        "    os.makedirs(track_output_dir, exist_ok=True)\n",
        "    # we save a temporary file\n",
        "    mixture_path = os.path.join(track_output_dir, \"mixture.wav\")\n",
        "    write(mixture_path, rate=44100, data=track.audio)\n",
        "\n",
        "    print(mixture_path)\n",
        "    # Use Spleeter to separate the mixture into stems - vocal and the other part\n",
        "    !pyenv exec spleeter separate -p spleeter:2stems -o {track_output_dir} {mixture_path}\n",
        "\n",
        "    # Remove the temporary mixture file (optional)\n",
        "    os.remove(mixture_path)\n",
        "\n",
        "    print(f\"Processed track: {track_name}\")"
      ],
      "metadata": {
        "colab": {
          "base_uri": "https://localhost:8080/",
          "height": 1000
        },
        "id": "pztwpjbMIBIK",
        "outputId": "1ce2b7dd-352f-4bfd-a193-84c0ad0f1561"
      },
      "execution_count": 13,
      "outputs": [
        {
          "output_type": "stream",
          "name": "stderr",
          "text": [
            "\r  0%|          | 0/150 [00:00<?, ?it/s]"
          ]
        },
        {
          "output_type": "stream",
          "name": "stdout",
          "text": [
            "/content/output/spleeter/A_Classic_Education_-_NightOwl/mixture.wav\n",
            "INFO:spleeter:Downloading model archive https://github.com/deezer/spleeter/releases/download/v1.4.0/2stems.tar.gz\n",
            "INFO:spleeter:Validating archive checksum\n",
            "INFO:spleeter:Extracting downloaded 2stems archive\n",
            "INFO:spleeter:2stems model file(s) extracted\n",
            "INFO:spleeter:File /content/output/spleeter/A_Classic_Education_-_NightOwl/mixture/vocals.wav written succesfully\n",
            "INFO:spleeter:File /content/output/spleeter/A_Classic_Education_-_NightOwl/mixture/accompaniment.wav written succesfully\n"
          ]
        },
        {
          "output_type": "stream",
          "name": "stderr",
          "text": [
            "\r  1%|          | 1/150 [00:49<2:02:08, 49.19s/it]"
          ]
        },
        {
          "output_type": "stream",
          "name": "stdout",
          "text": [
            "Processed track: A_Classic_Education_-_NightOwl\n",
            "/content/output/spleeter/ANiMAL_-_Clinic_A/mixture.wav\n",
            "INFO:spleeter:File /content/output/spleeter/ANiMAL_-_Clinic_A/mixture/vocals.wav written succesfully\n",
            "INFO:spleeter:File /content/output/spleeter/ANiMAL_-_Clinic_A/mixture/accompaniment.wav written succesfully\n"
          ]
        },
        {
          "output_type": "stream",
          "name": "stderr",
          "text": [
            "\r  1%|▏         | 2/150 [01:39<2:02:16, 49.57s/it]"
          ]
        },
        {
          "output_type": "stream",
          "name": "stdout",
          "text": [
            "Processed track: ANiMAL_-_Clinic_A\n",
            "/content/output/spleeter/ANiMAL_-_Easy_Tiger/mixture.wav\n",
            "INFO:spleeter:File /content/output/spleeter/ANiMAL_-_Easy_Tiger/mixture/vocals.wav written succesfully\n",
            "INFO:spleeter:File /content/output/spleeter/ANiMAL_-_Easy_Tiger/mixture/accompaniment.wav written succesfully\n"
          ]
        },
        {
          "output_type": "stream",
          "name": "stderr",
          "text": [
            "\r  2%|▏         | 3/150 [02:23<1:55:33, 47.17s/it]"
          ]
        },
        {
          "output_type": "stream",
          "name": "stdout",
          "text": [
            "Processed track: ANiMAL_-_Easy_Tiger\n",
            "/content/output/spleeter/ANiMAL_-_Rockshow/mixture.wav\n",
            "INFO:spleeter:File /content/output/spleeter/ANiMAL_-_Rockshow/mixture/vocals.wav written succesfully\n",
            "INFO:spleeter:File /content/output/spleeter/ANiMAL_-_Rockshow/mixture/accompaniment.wav written succesfully\n"
          ]
        },
        {
          "output_type": "stream",
          "name": "stderr",
          "text": [
            "\r  3%|▎         | 4/150 [02:59<1:44:40, 43.02s/it]"
          ]
        },
        {
          "output_type": "stream",
          "name": "stdout",
          "text": [
            "Processed track: ANiMAL_-_Rockshow\n",
            "/content/output/spleeter/Actions_-_Devils_Words/mixture.wav\n",
            "INFO:spleeter:File /content/output/spleeter/Actions_-_Devils_Words/mixture/vocals.wav written succesfully\n",
            "INFO:spleeter:File /content/output/spleeter/Actions_-_Devils_Words/mixture/accompaniment.wav written succesfully\n"
          ]
        },
        {
          "output_type": "stream",
          "name": "stderr",
          "text": [
            "\r  3%|▎         | 5/150 [03:41<1:42:28, 42.40s/it]"
          ]
        },
        {
          "output_type": "stream",
          "name": "stdout",
          "text": [
            "Processed track: Actions_-_Devils_Words\n",
            "/content/output/spleeter/Actions_-_One_Minute_Smile/mixture.wav\n",
            "INFO:spleeter:File /content/output/spleeter/Actions_-_One_Minute_Smile/mixture/vocals.wav written succesfully\n",
            "INFO:spleeter:File /content/output/spleeter/Actions_-_One_Minute_Smile/mixture/accompaniment.wav written succesfully\n"
          ]
        },
        {
          "output_type": "stream",
          "name": "stderr",
          "text": [
            "\r  4%|▍         | 6/150 [04:17<1:36:49, 40.35s/it]"
          ]
        },
        {
          "output_type": "stream",
          "name": "stdout",
          "text": [
            "Processed track: Actions_-_One_Minute_Smile\n",
            "/content/output/spleeter/Actions_-_South_Of_The_Water/mixture.wav\n",
            "INFO:spleeter:File /content/output/spleeter/Actions_-_South_Of_The_Water/mixture/vocals.wav written succesfully\n",
            "INFO:spleeter:File /content/output/spleeter/Actions_-_South_Of_The_Water/mixture/accompaniment.wav written succesfully\n"
          ]
        },
        {
          "output_type": "stream",
          "name": "stderr",
          "text": [
            "\r  5%|▍         | 7/150 [04:55<1:34:25, 39.62s/it]"
          ]
        },
        {
          "output_type": "stream",
          "name": "stdout",
          "text": [
            "Processed track: Actions_-_South_Of_The_Water\n",
            "/content/output/spleeter/Aimee_Norwich_-_Child/mixture.wav\n",
            "INFO:spleeter:File /content/output/spleeter/Aimee_Norwich_-_Child/mixture/vocals.wav written succesfully\n",
            "INFO:spleeter:File /content/output/spleeter/Aimee_Norwich_-_Child/mixture/accompaniment.wav written succesfully\n"
          ]
        },
        {
          "output_type": "stream",
          "name": "stderr",
          "text": [
            "\r  5%|▌         | 8/150 [05:36<1:34:19, 39.86s/it]"
          ]
        },
        {
          "output_type": "stream",
          "name": "stdout",
          "text": [
            "Processed track: Aimee_Norwich_-_Child\n",
            "/content/output/spleeter/Alexander_Ross_-_Goodbye_Bolero/mixture.wav\n",
            "INFO:spleeter:File /content/output/spleeter/Alexander_Ross_-_Goodbye_Bolero/mixture/vocals.wav written succesfully\n",
            "INFO:spleeter:File /content/output/spleeter/Alexander_Ross_-_Goodbye_Bolero/mixture/accompaniment.wav written succesfully\n"
          ]
        },
        {
          "output_type": "stream",
          "name": "stderr",
          "text": [
            "\r  6%|▌         | 9/150 [06:56<2:03:13, 52.44s/it]"
          ]
        },
        {
          "output_type": "stream",
          "name": "stdout",
          "text": [
            "Processed track: Alexander_Ross_-_Goodbye_Bolero\n",
            "/content/output/spleeter/Alexander_Ross_-_Velvet_Curtain/mixture.wav\n",
            "INFO:spleeter:File /content/output/spleeter/Alexander_Ross_-_Velvet_Curtain/mixture/vocals.wav written succesfully\n",
            "INFO:spleeter:File /content/output/spleeter/Alexander_Ross_-_Velvet_Curtain/mixture/accompaniment.wav written succesfully\n"
          ]
        },
        {
          "output_type": "stream",
          "name": "stderr",
          "text": [
            "\r  7%|▋         | 10/150 [08:42<2:41:24, 69.18s/it]"
          ]
        },
        {
          "output_type": "stream",
          "name": "stdout",
          "text": [
            "Processed track: Alexander_Ross_-_Velvet_Curtain\n",
            "/content/output/spleeter/Angela_Thomas_Wade_-_Milk_Cow_Blues/mixture.wav\n",
            "INFO:spleeter:File /content/output/spleeter/Angela_Thomas_Wade_-_Milk_Cow_Blues/mixture/vocals.wav written succesfully\n",
            "INFO:spleeter:File /content/output/spleeter/Angela_Thomas_Wade_-_Milk_Cow_Blues/mixture/accompaniment.wav written succesfully\n"
          ]
        },
        {
          "output_type": "stream",
          "name": "stderr",
          "text": [
            "\r  7%|▋         | 11/150 [09:40<2:31:52, 65.56s/it]"
          ]
        },
        {
          "output_type": "stream",
          "name": "stdout",
          "text": [
            "Processed track: Angela_Thomas_Wade_-_Milk_Cow_Blues\n",
            "/content/output/spleeter/Atlantis_Bound_-_It_Was_My_Fault_For_Waiting/mixture.wav\n",
            "INFO:spleeter:File /content/output/spleeter/Atlantis_Bound_-_It_Was_My_Fault_For_Waiting/mixture/vocals.wav written succesfully\n",
            "INFO:spleeter:File /content/output/spleeter/Atlantis_Bound_-_It_Was_My_Fault_For_Waiting/mixture/accompaniment.wav written succesfully\n"
          ]
        },
        {
          "output_type": "stream",
          "name": "stderr",
          "text": [
            "\r  8%|▊         | 12/150 [10:37<2:25:12, 63.14s/it]"
          ]
        },
        {
          "output_type": "stream",
          "name": "stdout",
          "text": [
            "Processed track: Atlantis_Bound_-_It_Was_My_Fault_For_Waiting\n",
            "/content/output/spleeter/Auctioneer_-_Our_Future_Faces/mixture.wav\n",
            "INFO:spleeter:File /content/output/spleeter/Auctioneer_-_Our_Future_Faces/mixture/vocals.wav written succesfully\n",
            "INFO:spleeter:File /content/output/spleeter/Auctioneer_-_Our_Future_Faces/mixture/accompaniment.wav written succesfully\n"
          ]
        },
        {
          "output_type": "stream",
          "name": "stderr",
          "text": [
            "\r  9%|▊         | 13/150 [11:26<2:13:59, 58.68s/it]"
          ]
        },
        {
          "output_type": "stream",
          "name": "stdout",
          "text": [
            "Processed track: Auctioneer_-_Our_Future_Faces\n",
            "/content/output/spleeter/AvaLuna_-_Waterduct/mixture.wav\n",
            "Process ForkPoolWorker-1:\n",
            "Process ForkPoolWorker-2:\n",
            "Traceback (most recent call last):\n",
            "Traceback (most recent call last):\n",
            "  File \"/root/.pyenv/versions/3.8.13/lib/python3.8/multiprocessing/process.py\", line 315, in _bootstrap\n",
            "    self.run()\n",
            "  File \"/root/.pyenv/versions/3.8.13/lib/python3.8/multiprocessing/process.py\", line 108, in run\n",
            "    self._target(*self._args, **self._kwargs)\n",
            "  File \"/root/.pyenv/versions/3.8.13/lib/python3.8/multiprocessing/pool.py\", line 114, in worker\n",
            "    task = get()\n",
            "  File \"/root/.pyenv/versions/3.8.13/lib/python3.8/multiprocessing/queues.py\", line 355, in get\n",
            "    with self._rlock:\n",
            "  File \"/root/.pyenv/versions/3.8.13/lib/python3.8/multiprocessing/synchronize.py\", line 95, in __enter__\n",
            "    return self._semlock.__enter__()\n",
            "KeyboardInterrupt\n",
            "  File \"/root/.pyenv/versions/3.8.13/lib/python3.8/multiprocessing/process.py\", line 315, in _bootstrap\n",
            "    self.run()\n",
            "  File \"/root/.pyenv/versions/3.8.13/lib/python3.8/multiprocessing/process.py\", line 108, in run\n",
            "    self._target(*self._args, **self._kwargs)\n",
            "  File \"/root/.pyenv/versions/3.8.13/lib/python3.8/multiprocessing/pool.py\", line 114, in worker\n",
            "    task = get()\n",
            "  File \"/root/.pyenv/versions/3.8.13/lib/python3.8/multiprocessing/queues.py\", line 356, in get\n",
            "    res = self._reader.recv_bytes()\n",
            "  File \"/root/.pyenv/versions/3.8.13/lib/python3.8/multiprocessing/connection.py\", line 216, in recv_bytes\n",
            "    buf = self._recv_bytes(maxlength)\n",
            "  File \"/root/.pyenv/versions/3.8.13/lib/python3.8/multiprocessing/connection.py\", line 414, in _recv_bytes\n",
            "    buf = self._recv(4)\n",
            "  File \"/root/.pyenv/versions/3.8.13/lib/python3.8/multiprocessing/connection.py\", line 379, in _recv\n",
            "    chunk = read(handle, remaining)\n",
            "KeyboardInterrupt\n",
            "Process ForkPoolWorker-3:\n",
            "Process ForkPoolWorker-4:\n",
            "Traceback (most recent call last):\n",
            "  File \"/root/.pyenv/versions/3.8.13/lib/python3.8/multiprocessing/process.py\", line 315, in _bootstrap\n",
            "    self.run()\n",
            "  File \"/root/.pyenv/versions/3.8.13/lib/python3.8/multiprocessing/process.py\", line 108, in run\n",
            "    self._target(*self._args, **self._kwargs)\n",
            "  File \"/root/.pyenv/versions/3.8.13/lib/python3.8/multiprocessing/pool.py\", line 114, in worker\n",
            "    task = get()\n",
            "  File \"/root/.pyenv/versions/3.8.13/lib/python3.8/multiprocessing/queues.py\", line 356, in get\n",
            "    res = self._reader.recv_bytes()\n",
            "  File \"/root/.pyenv/versions/3.8.13/lib/python3.8/multiprocessing/connection.py\", line 216, in recv_bytes\n",
            "    buf = self._recv_bytes(maxlength)\n",
            "  File \"/root/.pyenv/versions/3.8.13/lib/python3.8/multiprocessing/connection.py\", line 414, in _recv_bytes\n",
            "    buf = self._recv(4)\n",
            "  File \"/root/.pyenv/versions/3.8.13/lib/python3.8/multiprocessing/connection.py\", line 379, in _recv\n",
            "    chunk = read(handle, remaining)\n",
            "KeyboardInterrupt\n",
            "Traceback (most recent call last):\n",
            "  File \"/root/.pyenv/versions/3.8.13/lib/python3.8/multiprocessing/process.py\", line 315, in _bootstrap\n",
            "    self.run()\n",
            "  File \"/root/.pyenv/versions/3.8.13/lib/python3.8/multiprocessing/process.py\", line 108, in run\n",
            "    self._target(*self._args, **self._kwargs)\n",
            "  File \"/root/.pyenv/versions/3.8.13/lib/python3.8/multiprocessing/pool.py\", line 114, in worker\n",
            "    task = get()\n",
            "  File \"/root/.pyenv/versions/3.8.13/lib/python3.8/multiprocessing/queues.py\", line 355, in get\n",
            "    with self._rlock:\n",
            "  File \"/root/.pyenv/versions/3.8.13/lib/python3.8/multiprocessing/synchronize.py\", line 95, in __enter__\n",
            "    return self._semlock.__enter__()\n",
            "KeyboardInterrupt\n"
          ]
        },
        {
          "output_type": "stream",
          "name": "stderr",
          "text": [
            "\r  9%|▉         | 14/150 [12:16<2:07:14, 56.14s/it]"
          ]
        },
        {
          "output_type": "stream",
          "name": "stdout",
          "text": [
            "^C\n",
            "Processed track: AvaLuna_-_Waterduct\n",
            "/content/output/spleeter/BigTroubles_-_Phantom/mixture.wav\n",
            "Process ForkPoolWorker-2:\n",
            "Process ForkPoolWorker-1:\n",
            "\n",
            "Aborted!\n"
          ]
        },
        {
          "output_type": "stream",
          "name": "stderr",
          "text": [
            "\r 10%|█         | 15/150 [12:21<1:31:26, 40.64s/it]"
          ]
        },
        {
          "output_type": "stream",
          "name": "stdout",
          "text": [
            "Processed track: BigTroubles_-_Phantom\n"
          ]
        },
        {
          "output_type": "stream",
          "name": "stderr",
          "text": [
            "\r 10%|█         | 15/150 [12:23<1:51:27, 49.54s/it]\n"
          ]
        },
        {
          "output_type": "error",
          "ename": "KeyboardInterrupt",
          "evalue": "",
          "traceback": [
            "\u001b[0;31m---------------------------------------------------------------------------\u001b[0m",
            "\u001b[0;31mKeyboardInterrupt\u001b[0m                         Traceback (most recent call last)",
            "\u001b[0;32m<ipython-input-13-2dfcc29222cd>\u001b[0m in \u001b[0;36m<cell line: 0>\u001b[0;34m()\u001b[0m\n\u001b[1;32m     15\u001b[0m     \u001b[0;31m# we save a temporary file\u001b[0m\u001b[0;34m\u001b[0m\u001b[0;34m\u001b[0m\u001b[0m\n\u001b[1;32m     16\u001b[0m     \u001b[0mmixture_path\u001b[0m \u001b[0;34m=\u001b[0m \u001b[0mos\u001b[0m\u001b[0;34m.\u001b[0m\u001b[0mpath\u001b[0m\u001b[0;34m.\u001b[0m\u001b[0mjoin\u001b[0m\u001b[0;34m(\u001b[0m\u001b[0mtrack_output_dir\u001b[0m\u001b[0;34m,\u001b[0m \u001b[0;34m\"mixture.wav\"\u001b[0m\u001b[0;34m)\u001b[0m\u001b[0;34m\u001b[0m\u001b[0;34m\u001b[0m\u001b[0m\n\u001b[0;32m---> 17\u001b[0;31m     \u001b[0mwrite\u001b[0m\u001b[0;34m(\u001b[0m\u001b[0mmixture_path\u001b[0m\u001b[0;34m,\u001b[0m \u001b[0mrate\u001b[0m\u001b[0;34m=\u001b[0m\u001b[0;36m44100\u001b[0m\u001b[0;34m,\u001b[0m \u001b[0mdata\u001b[0m\u001b[0;34m=\u001b[0m\u001b[0mtrack\u001b[0m\u001b[0;34m.\u001b[0m\u001b[0maudio\u001b[0m\u001b[0;34m)\u001b[0m\u001b[0;34m\u001b[0m\u001b[0;34m\u001b[0m\u001b[0m\n\u001b[0m\u001b[1;32m     18\u001b[0m \u001b[0;34m\u001b[0m\u001b[0m\n\u001b[1;32m     19\u001b[0m     \u001b[0mprint\u001b[0m\u001b[0;34m(\u001b[0m\u001b[0mmixture_path\u001b[0m\u001b[0;34m)\u001b[0m\u001b[0;34m\u001b[0m\u001b[0;34m\u001b[0m\u001b[0m\n",
            "\u001b[0;32m/usr/local/lib/python3.11/dist-packages/scipy/io/wavfile.py\u001b[0m in \u001b[0;36mwrite\u001b[0;34m(filename, rate, data)\u001b[0m\n\u001b[1;32m    868\u001b[0m                                            sys.byteorder == 'big'):\n\u001b[1;32m    869\u001b[0m             \u001b[0mdata\u001b[0m \u001b[0;34m=\u001b[0m \u001b[0mdata\u001b[0m\u001b[0;34m.\u001b[0m\u001b[0mbyteswap\u001b[0m\u001b[0;34m(\u001b[0m\u001b[0;34m)\u001b[0m\u001b[0;34m\u001b[0m\u001b[0;34m\u001b[0m\u001b[0m\n\u001b[0;32m--> 870\u001b[0;31m         \u001b[0m_array_tofile\u001b[0m\u001b[0;34m(\u001b[0m\u001b[0mfid\u001b[0m\u001b[0;34m,\u001b[0m \u001b[0mdata\u001b[0m\u001b[0;34m)\u001b[0m\u001b[0;34m\u001b[0m\u001b[0;34m\u001b[0m\u001b[0m\n\u001b[0m\u001b[1;32m    871\u001b[0m \u001b[0;34m\u001b[0m\u001b[0m\n\u001b[1;32m    872\u001b[0m         \u001b[0;31m# Determine file size and place it in correct\u001b[0m\u001b[0;34m\u001b[0m\u001b[0;34m\u001b[0m\u001b[0m\n",
            "\u001b[0;32m/usr/local/lib/python3.11/dist-packages/scipy/io/wavfile.py\u001b[0m in \u001b[0;36m_array_tofile\u001b[0;34m(fid, data)\u001b[0m\n\u001b[1;32m    889\u001b[0m \u001b[0;32mdef\u001b[0m \u001b[0m_array_tofile\u001b[0m\u001b[0;34m(\u001b[0m\u001b[0mfid\u001b[0m\u001b[0;34m,\u001b[0m \u001b[0mdata\u001b[0m\u001b[0;34m)\u001b[0m\u001b[0;34m:\u001b[0m\u001b[0;34m\u001b[0m\u001b[0;34m\u001b[0m\u001b[0m\n\u001b[1;32m    890\u001b[0m     \u001b[0;31m# ravel gives a c-contiguous buffer\u001b[0m\u001b[0;34m\u001b[0m\u001b[0;34m\u001b[0m\u001b[0m\n\u001b[0;32m--> 891\u001b[0;31m     \u001b[0mfid\u001b[0m\u001b[0;34m.\u001b[0m\u001b[0mwrite\u001b[0m\u001b[0;34m(\u001b[0m\u001b[0mdata\u001b[0m\u001b[0;34m.\u001b[0m\u001b[0mravel\u001b[0m\u001b[0;34m(\u001b[0m\u001b[0;34m)\u001b[0m\u001b[0;34m.\u001b[0m\u001b[0mview\u001b[0m\u001b[0;34m(\u001b[0m\u001b[0;34m'b'\u001b[0m\u001b[0;34m)\u001b[0m\u001b[0;34m.\u001b[0m\u001b[0mdata\u001b[0m\u001b[0;34m)\u001b[0m\u001b[0;34m\u001b[0m\u001b[0;34m\u001b[0m\u001b[0m\n\u001b[0m",
            "\u001b[0;31mKeyboardInterrupt\u001b[0m: "
          ]
        }
      ]
    },
    {
      "cell_type": "markdown",
      "source": [
        "## Open UnMix\n"
      ],
      "metadata": {
        "id": "XK8jPGFleL9C"
      }
    },
    {
      "cell_type": "code",
      "source": [
        "!pip install openunmix\n",
        "import torch\n",
        "from openunmix.utils import preprocess\n",
        "from openunmix import umxl\n",
        "import os\n",
        "from tqdm import tqdm\n",
        "\n",
        "# the audio signal in musdb is of shape (num_samples, num_channels)\n",
        "\n"
      ],
      "metadata": {
        "colab": {
          "base_uri": "https://localhost:8080/"
        },
        "id": "LPkIa8ZoeLsp",
        "outputId": "affb3c9a-bb0c-4618-adf4-d17d4c16795a"
      },
      "execution_count": 16,
      "outputs": [
        {
          "output_type": "stream",
          "name": "stdout",
          "text": [
            "Requirement already satisfied: openunmix in /usr/local/lib/python3.11/dist-packages (1.3.0)\n",
            "Requirement already satisfied: numpy in /usr/local/lib/python3.11/dist-packages (from openunmix) (1.26.4)\n",
            "Requirement already satisfied: torchaudio>=0.9.0 in /usr/local/lib/python3.11/dist-packages (from openunmix) (2.6.0+cu124)\n",
            "Requirement already satisfied: torch>=1.9.0 in /usr/local/lib/python3.11/dist-packages (from openunmix) (2.6.0+cu124)\n",
            "Requirement already satisfied: tqdm in /usr/local/lib/python3.11/dist-packages (from openunmix) (4.67.1)\n",
            "Requirement already satisfied: filelock in /usr/local/lib/python3.11/dist-packages (from torch>=1.9.0->openunmix) (3.17.0)\n",
            "Requirement already satisfied: typing-extensions>=4.10.0 in /usr/local/lib/python3.11/dist-packages (from torch>=1.9.0->openunmix) (4.12.2)\n",
            "Requirement already satisfied: networkx in /usr/local/lib/python3.11/dist-packages (from torch>=1.9.0->openunmix) (3.4.2)\n",
            "Requirement already satisfied: jinja2 in /usr/local/lib/python3.11/dist-packages (from torch>=1.9.0->openunmix) (3.1.6)\n",
            "Requirement already satisfied: fsspec in /usr/local/lib/python3.11/dist-packages (from torch>=1.9.0->openunmix) (2024.10.0)\n",
            "Requirement already satisfied: nvidia-cuda-nvrtc-cu12==12.4.127 in /usr/local/lib/python3.11/dist-packages (from torch>=1.9.0->openunmix) (12.4.127)\n",
            "Requirement already satisfied: nvidia-cuda-runtime-cu12==12.4.127 in /usr/local/lib/python3.11/dist-packages (from torch>=1.9.0->openunmix) (12.4.127)\n",
            "Requirement already satisfied: nvidia-cuda-cupti-cu12==12.4.127 in /usr/local/lib/python3.11/dist-packages (from torch>=1.9.0->openunmix) (12.4.127)\n",
            "Requirement already satisfied: nvidia-cudnn-cu12==9.1.0.70 in /usr/local/lib/python3.11/dist-packages (from torch>=1.9.0->openunmix) (9.1.0.70)\n",
            "Requirement already satisfied: nvidia-cublas-cu12==12.4.5.8 in /usr/local/lib/python3.11/dist-packages (from torch>=1.9.0->openunmix) (12.4.5.8)\n",
            "Requirement already satisfied: nvidia-cufft-cu12==11.2.1.3 in /usr/local/lib/python3.11/dist-packages (from torch>=1.9.0->openunmix) (11.2.1.3)\n",
            "Requirement already satisfied: nvidia-curand-cu12==10.3.5.147 in /usr/local/lib/python3.11/dist-packages (from torch>=1.9.0->openunmix) (10.3.5.147)\n",
            "Requirement already satisfied: nvidia-cusolver-cu12==11.6.1.9 in /usr/local/lib/python3.11/dist-packages (from torch>=1.9.0->openunmix) (11.6.1.9)\n",
            "Requirement already satisfied: nvidia-cusparse-cu12==12.3.1.170 in /usr/local/lib/python3.11/dist-packages (from torch>=1.9.0->openunmix) (12.3.1.170)\n",
            "Requirement already satisfied: nvidia-cusparselt-cu12==0.6.2 in /usr/local/lib/python3.11/dist-packages (from torch>=1.9.0->openunmix) (0.6.2)\n",
            "Requirement already satisfied: nvidia-nccl-cu12==2.21.5 in /usr/local/lib/python3.11/dist-packages (from torch>=1.9.0->openunmix) (2.21.5)\n",
            "Requirement already satisfied: nvidia-nvtx-cu12==12.4.127 in /usr/local/lib/python3.11/dist-packages (from torch>=1.9.0->openunmix) (12.4.127)\n",
            "Requirement already satisfied: nvidia-nvjitlink-cu12==12.4.127 in /usr/local/lib/python3.11/dist-packages (from torch>=1.9.0->openunmix) (12.4.127)\n",
            "Requirement already satisfied: triton==3.2.0 in /usr/local/lib/python3.11/dist-packages (from torch>=1.9.0->openunmix) (3.2.0)\n",
            "Requirement already satisfied: sympy==1.13.1 in /usr/local/lib/python3.11/dist-packages (from torch>=1.9.0->openunmix) (1.13.1)\n",
            "Requirement already satisfied: mpmath<1.4,>=1.1.0 in /usr/local/lib/python3.11/dist-packages (from sympy==1.13.1->torch>=1.9.0->openunmix) (1.3.0)\n",
            "Requirement already satisfied: MarkupSafe>=2.0 in /usr/local/lib/python3.11/dist-packages (from jinja2->torch>=1.9.0->openunmix) (3.0.2)\n"
          ]
        }
      ]
    },
    {
      "cell_type": "code",
      "source": [
        "from openunmix.predict import separate\n",
        "from scipy.io import wavfile\n",
        "\n",
        "\n",
        "separator = umxl()\n",
        "umx_dir = \"/content/output/umx\"\n",
        "os.makedirs(umx_dir, exist_ok=True)\n",
        "device = torch.device(\"cuda\" if torch.cuda.is_available() else \"cpu\")\n",
        "\n",
        "\n",
        "for track in tqdm(mus):\n",
        "    track_name = track.name.replace(\" \", \"_\")\n",
        "\n",
        "    track_output_dir = os.path.join(umx_dir, track_name)\n",
        "    os.makedirs(track_output_dir, exist_ok=True)\n",
        "\n",
        "    audio_tensor = torch.from_numpy(track.audio).T  # Transpose to (num_channels, num_samples)\n",
        "    audio_tensor = audio_tensor.unsqueeze(0)  # Add batch dimension: (1, num_channels, num_samples)\n",
        "    audio_tensor = audio_tensor.float()\n",
        "    audio_tensor = audio_tensor.to(device)\n",
        "\n",
        "    estimates = separate(audio_tensor, rate=rate)\n",
        "\n",
        "    for stem, estimate in estimates.items():\n",
        "        stem_path = os.path.join(track_output_dir, f\"{stem}.wav\")\n",
        "        wavfile.write(stem_path, rate, estimate.squeeze(0).cpu().numpy().T)  # Convert back to (num_samples, num_channels)\n",
        "\n",
        "    print(f\"Processed track: {track_name}\")"
      ],
      "metadata": {
        "colab": {
          "base_uri": "https://localhost:8080/",
          "height": 407
        },
        "id": "l5bWJMMjcHJG",
        "outputId": "89aff4ae-01f6-4599-b828-ad3c5776ddc3"
      },
      "execution_count": 26,
      "outputs": [
        {
          "output_type": "stream",
          "name": "stderr",
          "text": [
            "  0%|          | 0/150 [07:14<?, ?it/s]\n"
          ]
        },
        {
          "output_type": "error",
          "ename": "KeyboardInterrupt",
          "evalue": "",
          "traceback": [
            "\u001b[0;31m---------------------------------------------------------------------------\u001b[0m",
            "\u001b[0;31mKeyboardInterrupt\u001b[0m                         Traceback (most recent call last)",
            "\u001b[0;32m<ipython-input-26-9212d3b1fd12>\u001b[0m in \u001b[0;36m<cell line: 0>\u001b[0;34m()\u001b[0m\n\u001b[1;32m     20\u001b[0m     \u001b[0maudio_tensor\u001b[0m \u001b[0;34m=\u001b[0m \u001b[0maudio_tensor\u001b[0m\u001b[0;34m.\u001b[0m\u001b[0mto\u001b[0m\u001b[0;34m(\u001b[0m\u001b[0mdevice\u001b[0m\u001b[0;34m)\u001b[0m\u001b[0;34m\u001b[0m\u001b[0;34m\u001b[0m\u001b[0m\n\u001b[1;32m     21\u001b[0m \u001b[0;34m\u001b[0m\u001b[0m\n\u001b[0;32m---> 22\u001b[0;31m     \u001b[0mestimates\u001b[0m \u001b[0;34m=\u001b[0m \u001b[0mseparate\u001b[0m\u001b[0;34m(\u001b[0m\u001b[0maudio_tensor\u001b[0m\u001b[0;34m,\u001b[0m \u001b[0mrate\u001b[0m\u001b[0;34m=\u001b[0m\u001b[0mrate\u001b[0m\u001b[0;34m)\u001b[0m\u001b[0;34m\u001b[0m\u001b[0;34m\u001b[0m\u001b[0m\n\u001b[0m\u001b[1;32m     23\u001b[0m \u001b[0;34m\u001b[0m\u001b[0m\n\u001b[1;32m     24\u001b[0m     \u001b[0;32mfor\u001b[0m \u001b[0mstem\u001b[0m\u001b[0;34m,\u001b[0m \u001b[0mestimate\u001b[0m \u001b[0;32min\u001b[0m \u001b[0mestimates\u001b[0m\u001b[0;34m.\u001b[0m\u001b[0mitems\u001b[0m\u001b[0;34m(\u001b[0m\u001b[0;34m)\u001b[0m\u001b[0;34m:\u001b[0m\u001b[0;34m\u001b[0m\u001b[0;34m\u001b[0m\u001b[0m\n",
            "\u001b[0;32m/usr/local/lib/python3.11/dist-packages/openunmix/predict.py\u001b[0m in \u001b[0;36mseparate\u001b[0;34m(audio, rate, model_str_or_path, targets, niter, residual, wiener_win_len, aggregate_dict, separator, device, filterbank)\u001b[0m\n\u001b[1;32m     76\u001b[0m \u001b[0;34m\u001b[0m\u001b[0m\n\u001b[1;32m     77\u001b[0m     \u001b[0;31m# getting the separated signals\u001b[0m\u001b[0;34m\u001b[0m\u001b[0;34m\u001b[0m\u001b[0m\n\u001b[0;32m---> 78\u001b[0;31m     \u001b[0mestimates\u001b[0m \u001b[0;34m=\u001b[0m \u001b[0mseparator\u001b[0m\u001b[0;34m(\u001b[0m\u001b[0maudio\u001b[0m\u001b[0;34m)\u001b[0m\u001b[0;34m\u001b[0m\u001b[0;34m\u001b[0m\u001b[0m\n\u001b[0m\u001b[1;32m     79\u001b[0m     \u001b[0mestimates\u001b[0m \u001b[0;34m=\u001b[0m \u001b[0mseparator\u001b[0m\u001b[0;34m.\u001b[0m\u001b[0mto_dict\u001b[0m\u001b[0;34m(\u001b[0m\u001b[0mestimates\u001b[0m\u001b[0;34m,\u001b[0m \u001b[0maggregate_dict\u001b[0m\u001b[0;34m=\u001b[0m\u001b[0maggregate_dict\u001b[0m\u001b[0;34m)\u001b[0m\u001b[0;34m\u001b[0m\u001b[0;34m\u001b[0m\u001b[0m\n\u001b[1;32m     80\u001b[0m     \u001b[0;32mreturn\u001b[0m \u001b[0mestimates\u001b[0m\u001b[0;34m\u001b[0m\u001b[0;34m\u001b[0m\u001b[0m\n",
            "\u001b[0;32m/usr/local/lib/python3.11/dist-packages/torch/nn/modules/module.py\u001b[0m in \u001b[0;36m_wrapped_call_impl\u001b[0;34m(self, *args, **kwargs)\u001b[0m\n\u001b[1;32m   1737\u001b[0m             \u001b[0;32mreturn\u001b[0m \u001b[0mself\u001b[0m\u001b[0;34m.\u001b[0m\u001b[0m_compiled_call_impl\u001b[0m\u001b[0;34m(\u001b[0m\u001b[0;34m*\u001b[0m\u001b[0margs\u001b[0m\u001b[0;34m,\u001b[0m \u001b[0;34m**\u001b[0m\u001b[0mkwargs\u001b[0m\u001b[0;34m)\u001b[0m  \u001b[0;31m# type: ignore[misc]\u001b[0m\u001b[0;34m\u001b[0m\u001b[0;34m\u001b[0m\u001b[0m\n\u001b[1;32m   1738\u001b[0m         \u001b[0;32melse\u001b[0m\u001b[0;34m:\u001b[0m\u001b[0;34m\u001b[0m\u001b[0;34m\u001b[0m\u001b[0m\n\u001b[0;32m-> 1739\u001b[0;31m             \u001b[0;32mreturn\u001b[0m \u001b[0mself\u001b[0m\u001b[0;34m.\u001b[0m\u001b[0m_call_impl\u001b[0m\u001b[0;34m(\u001b[0m\u001b[0;34m*\u001b[0m\u001b[0margs\u001b[0m\u001b[0;34m,\u001b[0m \u001b[0;34m**\u001b[0m\u001b[0mkwargs\u001b[0m\u001b[0;34m)\u001b[0m\u001b[0;34m\u001b[0m\u001b[0;34m\u001b[0m\u001b[0m\n\u001b[0m\u001b[1;32m   1740\u001b[0m \u001b[0;34m\u001b[0m\u001b[0m\n\u001b[1;32m   1741\u001b[0m     \u001b[0;31m# torchrec tests the code consistency with the following code\u001b[0m\u001b[0;34m\u001b[0m\u001b[0;34m\u001b[0m\u001b[0m\n",
            "\u001b[0;32m/usr/local/lib/python3.11/dist-packages/torch/nn/modules/module.py\u001b[0m in \u001b[0;36m_call_impl\u001b[0;34m(self, *args, **kwargs)\u001b[0m\n\u001b[1;32m   1748\u001b[0m                 \u001b[0;32mor\u001b[0m \u001b[0m_global_backward_pre_hooks\u001b[0m \u001b[0;32mor\u001b[0m \u001b[0m_global_backward_hooks\u001b[0m\u001b[0;34m\u001b[0m\u001b[0;34m\u001b[0m\u001b[0m\n\u001b[1;32m   1749\u001b[0m                 or _global_forward_hooks or _global_forward_pre_hooks):\n\u001b[0;32m-> 1750\u001b[0;31m             \u001b[0;32mreturn\u001b[0m \u001b[0mforward_call\u001b[0m\u001b[0;34m(\u001b[0m\u001b[0;34m*\u001b[0m\u001b[0margs\u001b[0m\u001b[0;34m,\u001b[0m \u001b[0;34m**\u001b[0m\u001b[0mkwargs\u001b[0m\u001b[0;34m)\u001b[0m\u001b[0;34m\u001b[0m\u001b[0;34m\u001b[0m\u001b[0m\n\u001b[0m\u001b[1;32m   1751\u001b[0m \u001b[0;34m\u001b[0m\u001b[0m\n\u001b[1;32m   1752\u001b[0m         \u001b[0mresult\u001b[0m \u001b[0;34m=\u001b[0m \u001b[0;32mNone\u001b[0m\u001b[0;34m\u001b[0m\u001b[0;34m\u001b[0m\u001b[0m\n",
            "\u001b[0;32m/usr/local/lib/python3.11/dist-packages/openunmix/model.py\u001b[0m in \u001b[0;36mforward\u001b[0;34m(self, audio)\u001b[0m\n\u001b[1;32m    265\u001b[0m         \u001b[0;32mfor\u001b[0m \u001b[0mj\u001b[0m\u001b[0;34m,\u001b[0m \u001b[0;34m(\u001b[0m\u001b[0mtarget_name\u001b[0m\u001b[0;34m,\u001b[0m \u001b[0mtarget_module\u001b[0m\u001b[0;34m)\u001b[0m \u001b[0;32min\u001b[0m \u001b[0menumerate\u001b[0m\u001b[0;34m(\u001b[0m\u001b[0mself\u001b[0m\u001b[0;34m.\u001b[0m\u001b[0mtarget_models\u001b[0m\u001b[0;34m.\u001b[0m\u001b[0mitems\u001b[0m\u001b[0;34m(\u001b[0m\u001b[0;34m)\u001b[0m\u001b[0;34m)\u001b[0m\u001b[0;34m:\u001b[0m\u001b[0;34m\u001b[0m\u001b[0;34m\u001b[0m\u001b[0m\n\u001b[1;32m    266\u001b[0m             \u001b[0;31m# apply current model to get the source spectrogram\u001b[0m\u001b[0;34m\u001b[0m\u001b[0;34m\u001b[0m\u001b[0m\n\u001b[0;32m--> 267\u001b[0;31m             \u001b[0mtarget_spectrogram\u001b[0m \u001b[0;34m=\u001b[0m \u001b[0mtarget_module\u001b[0m\u001b[0;34m(\u001b[0m\u001b[0mX\u001b[0m\u001b[0;34m.\u001b[0m\u001b[0mdetach\u001b[0m\u001b[0;34m(\u001b[0m\u001b[0;34m)\u001b[0m\u001b[0;34m.\u001b[0m\u001b[0mclone\u001b[0m\u001b[0;34m(\u001b[0m\u001b[0;34m)\u001b[0m\u001b[0;34m)\u001b[0m\u001b[0;34m\u001b[0m\u001b[0;34m\u001b[0m\u001b[0m\n\u001b[0m\u001b[1;32m    268\u001b[0m             \u001b[0mspectrograms\u001b[0m\u001b[0;34m[\u001b[0m\u001b[0;34m...\u001b[0m\u001b[0;34m,\u001b[0m \u001b[0mj\u001b[0m\u001b[0;34m]\u001b[0m \u001b[0;34m=\u001b[0m \u001b[0mtarget_spectrogram\u001b[0m\u001b[0;34m\u001b[0m\u001b[0;34m\u001b[0m\u001b[0m\n\u001b[1;32m    269\u001b[0m \u001b[0;34m\u001b[0m\u001b[0m\n",
            "\u001b[0;32m/usr/local/lib/python3.11/dist-packages/torch/nn/modules/module.py\u001b[0m in \u001b[0;36m_wrapped_call_impl\u001b[0;34m(self, *args, **kwargs)\u001b[0m\n\u001b[1;32m   1737\u001b[0m             \u001b[0;32mreturn\u001b[0m \u001b[0mself\u001b[0m\u001b[0;34m.\u001b[0m\u001b[0m_compiled_call_impl\u001b[0m\u001b[0;34m(\u001b[0m\u001b[0;34m*\u001b[0m\u001b[0margs\u001b[0m\u001b[0;34m,\u001b[0m \u001b[0;34m**\u001b[0m\u001b[0mkwargs\u001b[0m\u001b[0;34m)\u001b[0m  \u001b[0;31m# type: ignore[misc]\u001b[0m\u001b[0;34m\u001b[0m\u001b[0;34m\u001b[0m\u001b[0m\n\u001b[1;32m   1738\u001b[0m         \u001b[0;32melse\u001b[0m\u001b[0;34m:\u001b[0m\u001b[0;34m\u001b[0m\u001b[0;34m\u001b[0m\u001b[0m\n\u001b[0;32m-> 1739\u001b[0;31m             \u001b[0;32mreturn\u001b[0m \u001b[0mself\u001b[0m\u001b[0;34m.\u001b[0m\u001b[0m_call_impl\u001b[0m\u001b[0;34m(\u001b[0m\u001b[0;34m*\u001b[0m\u001b[0margs\u001b[0m\u001b[0;34m,\u001b[0m \u001b[0;34m**\u001b[0m\u001b[0mkwargs\u001b[0m\u001b[0;34m)\u001b[0m\u001b[0;34m\u001b[0m\u001b[0;34m\u001b[0m\u001b[0m\n\u001b[0m\u001b[1;32m   1740\u001b[0m \u001b[0;34m\u001b[0m\u001b[0m\n\u001b[1;32m   1741\u001b[0m     \u001b[0;31m# torchrec tests the code consistency with the following code\u001b[0m\u001b[0;34m\u001b[0m\u001b[0;34m\u001b[0m\u001b[0m\n",
            "\u001b[0;32m/usr/local/lib/python3.11/dist-packages/torch/nn/modules/module.py\u001b[0m in \u001b[0;36m_call_impl\u001b[0;34m(self, *args, **kwargs)\u001b[0m\n\u001b[1;32m   1748\u001b[0m                 \u001b[0;32mor\u001b[0m \u001b[0m_global_backward_pre_hooks\u001b[0m \u001b[0;32mor\u001b[0m \u001b[0m_global_backward_hooks\u001b[0m\u001b[0;34m\u001b[0m\u001b[0;34m\u001b[0m\u001b[0m\n\u001b[1;32m   1749\u001b[0m                 or _global_forward_hooks or _global_forward_pre_hooks):\n\u001b[0;32m-> 1750\u001b[0;31m             \u001b[0;32mreturn\u001b[0m \u001b[0mforward_call\u001b[0m\u001b[0;34m(\u001b[0m\u001b[0;34m*\u001b[0m\u001b[0margs\u001b[0m\u001b[0;34m,\u001b[0m \u001b[0;34m**\u001b[0m\u001b[0mkwargs\u001b[0m\u001b[0;34m)\u001b[0m\u001b[0;34m\u001b[0m\u001b[0;34m\u001b[0m\u001b[0m\n\u001b[0m\u001b[1;32m   1751\u001b[0m \u001b[0;34m\u001b[0m\u001b[0m\n\u001b[1;32m   1752\u001b[0m         \u001b[0mresult\u001b[0m \u001b[0;34m=\u001b[0m \u001b[0;32mNone\u001b[0m\u001b[0;34m\u001b[0m\u001b[0;34m\u001b[0m\u001b[0m\n",
            "\u001b[0;32m/usr/local/lib/python3.11/dist-packages/openunmix/model.py\u001b[0m in \u001b[0;36mforward\u001b[0;34m(self, x)\u001b[0m\n\u001b[1;32m    145\u001b[0m \u001b[0;34m\u001b[0m\u001b[0m\n\u001b[1;32m    146\u001b[0m         \u001b[0;31m# first dense stage + batch norm\u001b[0m\u001b[0;34m\u001b[0m\u001b[0;34m\u001b[0m\u001b[0m\n\u001b[0;32m--> 147\u001b[0;31m         \u001b[0mx\u001b[0m \u001b[0;34m=\u001b[0m \u001b[0mself\u001b[0m\u001b[0;34m.\u001b[0m\u001b[0mfc2\u001b[0m\u001b[0;34m(\u001b[0m\u001b[0mx\u001b[0m\u001b[0;34m.\u001b[0m\u001b[0mreshape\u001b[0m\u001b[0;34m(\u001b[0m\u001b[0;34m-\u001b[0m\u001b[0;36m1\u001b[0m\u001b[0;34m,\u001b[0m \u001b[0mx\u001b[0m\u001b[0;34m.\u001b[0m\u001b[0mshape\u001b[0m\u001b[0;34m[\u001b[0m\u001b[0;34m-\u001b[0m\u001b[0;36m1\u001b[0m\u001b[0;34m]\u001b[0m\u001b[0;34m)\u001b[0m\u001b[0;34m)\u001b[0m\u001b[0;34m\u001b[0m\u001b[0;34m\u001b[0m\u001b[0m\n\u001b[0m\u001b[1;32m    148\u001b[0m         \u001b[0mx\u001b[0m \u001b[0;34m=\u001b[0m \u001b[0mself\u001b[0m\u001b[0;34m.\u001b[0m\u001b[0mbn2\u001b[0m\u001b[0;34m(\u001b[0m\u001b[0mx\u001b[0m\u001b[0;34m)\u001b[0m\u001b[0;34m\u001b[0m\u001b[0;34m\u001b[0m\u001b[0m\n\u001b[1;32m    149\u001b[0m \u001b[0;34m\u001b[0m\u001b[0m\n",
            "\u001b[0;32m/usr/local/lib/python3.11/dist-packages/torch/nn/modules/module.py\u001b[0m in \u001b[0;36m_wrapped_call_impl\u001b[0;34m(self, *args, **kwargs)\u001b[0m\n\u001b[1;32m   1737\u001b[0m             \u001b[0;32mreturn\u001b[0m \u001b[0mself\u001b[0m\u001b[0;34m.\u001b[0m\u001b[0m_compiled_call_impl\u001b[0m\u001b[0;34m(\u001b[0m\u001b[0;34m*\u001b[0m\u001b[0margs\u001b[0m\u001b[0;34m,\u001b[0m \u001b[0;34m**\u001b[0m\u001b[0mkwargs\u001b[0m\u001b[0;34m)\u001b[0m  \u001b[0;31m# type: ignore[misc]\u001b[0m\u001b[0;34m\u001b[0m\u001b[0;34m\u001b[0m\u001b[0m\n\u001b[1;32m   1738\u001b[0m         \u001b[0;32melse\u001b[0m\u001b[0;34m:\u001b[0m\u001b[0;34m\u001b[0m\u001b[0;34m\u001b[0m\u001b[0m\n\u001b[0;32m-> 1739\u001b[0;31m             \u001b[0;32mreturn\u001b[0m \u001b[0mself\u001b[0m\u001b[0;34m.\u001b[0m\u001b[0m_call_impl\u001b[0m\u001b[0;34m(\u001b[0m\u001b[0;34m*\u001b[0m\u001b[0margs\u001b[0m\u001b[0;34m,\u001b[0m \u001b[0;34m**\u001b[0m\u001b[0mkwargs\u001b[0m\u001b[0;34m)\u001b[0m\u001b[0;34m\u001b[0m\u001b[0;34m\u001b[0m\u001b[0m\n\u001b[0m\u001b[1;32m   1740\u001b[0m \u001b[0;34m\u001b[0m\u001b[0m\n\u001b[1;32m   1741\u001b[0m     \u001b[0;31m# torchrec tests the code consistency with the following code\u001b[0m\u001b[0;34m\u001b[0m\u001b[0;34m\u001b[0m\u001b[0m\n",
            "\u001b[0;32m/usr/local/lib/python3.11/dist-packages/torch/nn/modules/module.py\u001b[0m in \u001b[0;36m_call_impl\u001b[0;34m(self, *args, **kwargs)\u001b[0m\n\u001b[1;32m   1748\u001b[0m                 \u001b[0;32mor\u001b[0m \u001b[0m_global_backward_pre_hooks\u001b[0m \u001b[0;32mor\u001b[0m \u001b[0m_global_backward_hooks\u001b[0m\u001b[0;34m\u001b[0m\u001b[0;34m\u001b[0m\u001b[0m\n\u001b[1;32m   1749\u001b[0m                 or _global_forward_hooks or _global_forward_pre_hooks):\n\u001b[0;32m-> 1750\u001b[0;31m             \u001b[0;32mreturn\u001b[0m \u001b[0mforward_call\u001b[0m\u001b[0;34m(\u001b[0m\u001b[0;34m*\u001b[0m\u001b[0margs\u001b[0m\u001b[0;34m,\u001b[0m \u001b[0;34m**\u001b[0m\u001b[0mkwargs\u001b[0m\u001b[0;34m)\u001b[0m\u001b[0;34m\u001b[0m\u001b[0;34m\u001b[0m\u001b[0m\n\u001b[0m\u001b[1;32m   1751\u001b[0m \u001b[0;34m\u001b[0m\u001b[0m\n\u001b[1;32m   1752\u001b[0m         \u001b[0mresult\u001b[0m \u001b[0;34m=\u001b[0m \u001b[0;32mNone\u001b[0m\u001b[0;34m\u001b[0m\u001b[0;34m\u001b[0m\u001b[0m\n",
            "\u001b[0;32m/usr/local/lib/python3.11/dist-packages/torch/nn/modules/linear.py\u001b[0m in \u001b[0;36mforward\u001b[0;34m(self, input)\u001b[0m\n\u001b[1;32m    123\u001b[0m \u001b[0;34m\u001b[0m\u001b[0m\n\u001b[1;32m    124\u001b[0m     \u001b[0;32mdef\u001b[0m \u001b[0mforward\u001b[0m\u001b[0;34m(\u001b[0m\u001b[0mself\u001b[0m\u001b[0;34m,\u001b[0m \u001b[0minput\u001b[0m\u001b[0;34m:\u001b[0m \u001b[0mTensor\u001b[0m\u001b[0;34m)\u001b[0m \u001b[0;34m->\u001b[0m \u001b[0mTensor\u001b[0m\u001b[0;34m:\u001b[0m\u001b[0;34m\u001b[0m\u001b[0;34m\u001b[0m\u001b[0m\n\u001b[0;32m--> 125\u001b[0;31m         \u001b[0;32mreturn\u001b[0m \u001b[0mF\u001b[0m\u001b[0;34m.\u001b[0m\u001b[0mlinear\u001b[0m\u001b[0;34m(\u001b[0m\u001b[0minput\u001b[0m\u001b[0;34m,\u001b[0m \u001b[0mself\u001b[0m\u001b[0;34m.\u001b[0m\u001b[0mweight\u001b[0m\u001b[0;34m,\u001b[0m \u001b[0mself\u001b[0m\u001b[0;34m.\u001b[0m\u001b[0mbias\u001b[0m\u001b[0;34m)\u001b[0m\u001b[0;34m\u001b[0m\u001b[0;34m\u001b[0m\u001b[0m\n\u001b[0m\u001b[1;32m    126\u001b[0m \u001b[0;34m\u001b[0m\u001b[0m\n\u001b[1;32m    127\u001b[0m     \u001b[0;32mdef\u001b[0m \u001b[0mextra_repr\u001b[0m\u001b[0;34m(\u001b[0m\u001b[0mself\u001b[0m\u001b[0;34m)\u001b[0m \u001b[0;34m->\u001b[0m \u001b[0mstr\u001b[0m\u001b[0;34m:\u001b[0m\u001b[0;34m\u001b[0m\u001b[0;34m\u001b[0m\u001b[0m\n",
            "\u001b[0;31mKeyboardInterrupt\u001b[0m: "
          ]
        }
      ]
    },
    {
      "cell_type": "code",
      "source": [
        "import json\n",
        "import torchaudio\n",
        "from speechbrain.utils.data_utils import get_all_files\n",
        "\n",
        "train_files = []\n",
        "valid_files = []\n",
        "test_files = []\n",
        "\n",
        "def create_json(json_file, mus_obj):\n",
        "\n",
        "  json_dict = {}\n",
        "  for i, track in enumerate(mus_obj):\n",
        "    if i % 10 == 0:\n",
        "      print(i)\n",
        "\n",
        "    file_name = track.name\n",
        "    file_path = track.path\n",
        "    file_rate = track.rate\n",
        "    # file_audio = track.audio\n",
        "    # file_vocal = track.targets['vocals'].audio\n",
        "    # print(file_name)\n",
        "    json_dict[file_name] = {\n",
        "              \"file_path\": file_path,\n",
        "              \"rate\": file_rate\n",
        "      }\n",
        "    # print(json_dict[file_name])\n",
        "\n",
        "    with open(json_file, mode=\"w\") as json_f:\n",
        "        json.dump(json_dict, json_f, indent=2)\n",
        "\n",
        "# 80% for training\n",
        "create_json(\"train.json\", mus_train)\n",
        "create_json(\"valid.json\", mus_valid)\n",
        "create_json(\"test.json\", mus_test)\n",
        "\n",
        "\n",
        "\n",
        "\n"
      ],
      "metadata": {
        "colab": {
          "base_uri": "https://localhost:8080/"
        },
        "id": "XRVXE6U2T7Z6",
        "outputId": "6b58d654-1bc4-4f67-fa21-f8e7bc7f9f59"
      },
      "execution_count": null,
      "outputs": [
        {
          "output_type": "stream",
          "name": "stdout",
          "text": [
            "0\n",
            "10\n",
            "20\n",
            "30\n",
            "40\n",
            "50\n",
            "60\n",
            "70\n",
            "80\n",
            "0\n",
            "10\n",
            "0\n",
            "10\n",
            "20\n",
            "30\n",
            "40\n"
          ]
        }
      ]
    },
    {
      "cell_type": "code",
      "source": [
        "%%file hparams_xvector_fbanks.yaml\n",
        "\n",
        "seed: 1986\n",
        "__set_seed: !!python/object/apply:torch.manual_seed [!ref <seed>]\n",
        "\n",
        "output_folder: !ref ./results/MUSDB/Sepformer/<seed>\n",
        "save_folder: !ref ./results/TIMIT_tiny/Sepformer/<seed>/save\n",
        "train_log: !ref <output_folder>/train_log.txt\n",
        "label_encoder: !ref <save_folder>/label_encoder.txt\n",
        "\n",
        "# Path where data manifest files are stored\n",
        "train_annotation: train.json\n",
        "valid_annotation: valid.json\n",
        "test_annotation: test.json\n",
        "\n",
        "# The train logger writes training statistics to a file, as well as stdout.\n",
        "train_logger: !new:speechbrain.utils.train_logger.FileTrainLogger\n",
        "    save_file: !ref <train_log>\n",
        "\n",
        "error_stats: !name:speechbrain.utils.metric_stats.MetricStats\n",
        "    metric: !name:speechbrain.nnet.losses.classification_error\n",
        "        reduction: batch\n",
        "\n",
        "# Feature parameters\n",
        "n_mels: 40\n",
        "\n",
        "# Training Parameters\n",
        "sample_rate: 16000\n",
        "number_of_epochs: 20\n",
        "batch_size: 64\n",
        "lr_start: 0.001\n",
        "lr_final: 0.0001\n",
        "n_classes: 26\n",
        "emb_dim: 256 # dimensionality of the embeddings\n",
        "dataloader_options:\n",
        "    batch_size: !ref <batch_size>\n",
        "\n",
        "# Feature extraction\n",
        "compute_features: !new:speechbrain.lobes.features.Fbank\n",
        "    n_mels: !ref <n_mels>\n",
        "\n",
        "# Mean and std normalization of the input features\n",
        "mean_var_norm: !new:speechbrain.processing.features.InputNormalization\n",
        "    norm_type: global\n",
        "\n",
        "# Embedding model: from variable size digits gets a fixed size embedding vector\n",
        "embedding_model: !new:speechbrain.lobes.models.Xvector.Xvector\n",
        "    in_channels: !ref <n_mels>\n",
        "    activation: !name:torch.nn.LeakyReLU\n",
        "    tdnn_blocks: 5\n",
        "    tdnn_channels: [64, 64, 64, 64, 128]\n",
        "    tdnn_kernel_sizes: [5, 3, 3, 1, 1]\n",
        "    tdnn_dilations: [1, 2, 3, 1, 1]\n",
        "    lin_neurons: !ref <emb_dim>\n",
        "\n",
        "# Clasifier applied on top of the embeddings\n",
        "classifier: !new:speechbrain.lobes.models.Xvector.Classifier\n",
        "    input_shape: [null, null, !ref ]\n",
        "    activation: !name:torch.nn.LeakyReLU\n",
        "    lin_blocks: 1\n",
        "    lin_neurons: !ref <emb_dim>\n",
        "    out_neurons: !ref <n_classes>\n",
        "\n",
        "# The first object passed to the Brain class is this \"Epoch Counter\"\n",
        "# which is saved by the Checkpointer so that training can be resumed\n",
        "# if it gets interrupted at any point.\n",
        "epoch_counter: !new:speechbrain.utils.epoch_loop.EpochCounter\n",
        "    limit: !ref <number_of_epochs>\n",
        "\n",
        "# Objects in \"modules\" dict will have their parameters moved to the correct\n",
        "# device, as well as having train()/eval() called on them by the Brain class.\n",
        "modules:\n",
        "    compute_features: !ref <compute_features>\n",
        "    mean_var_norm: !ref <mean_var_norm>\n",
        "    embedding_model: !ref <embedding_model>\n",
        "    classifier: !ref <classifier>\n",
        "\n",
        "# This optimizer will be constructed by the Brain class after all parameters\n",
        "# are moved to the correct device. Then it will be added to the checkpointer.\n",
        "opt_class: !name:torch.optim.Adam\n",
        "    lr: !ref <lr_start>\n",
        "\n",
        "# This function manages learning rate annealing over the epochs.\n",
        "# We here use the simple lr annealing method that linearly decreases\n",
        "# the lr from the initial value to the final one.\n",
        "lr_annealing: !new:speechbrain.nnet.schedulers.LinearScheduler\n",
        "    initial_value: !ref <lr_start>\n",
        "    final_value: !ref <lr_final>\n",
        "    epoch_count: !ref <number_of_epochs>\n",
        "\n",
        "# This object is used for saving the state of training both so that it\n",
        "# can be resumed if it gets interrupted, and also so that the best checkpoint\n",
        "# can be later loaded for evaluation or inference.\n",
        "# checkpointer: !new:speechbrain.utils.checkpoints.Checkpointer\n",
        "#     checkpoints_dir: !ref\n",
        "#     recoverables:\n",
        "#         embedding_model: !ref <embedding_model>\n",
        "#         classifier: !ref <classifier>\n",
        "#         normalizer: !ref <mean_var_norm>\n",
        "#         counter: !ref <epoch_counter>"
      ],
      "metadata": {
        "id": "7IEFi7-PdZRI"
      },
      "execution_count": null,
      "outputs": []
    }
  ]
}